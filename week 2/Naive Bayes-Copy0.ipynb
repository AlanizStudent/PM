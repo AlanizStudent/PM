{
 "cells": [
  {
   "cell_type": "markdown",
   "metadata": {},
   "source": [
    "In this example, we will use the Naive Bayes implementation from the Scikit-learn  machine learning library to classify newsgroup postings. We have chosen two newsgroups from the datasets provided by Scikit-learn (alt.atheism and sci.med) and we shall use Naive Bayes to predict which newsgroup a particular posting is from."
   ]
  },
  {
   "cell_type": "code",
   "execution_count": 1,
   "metadata": {
    "collapsed": false
   },
   "outputs": [
    {
     "name": "stderr",
     "output_type": "stream",
     "text": [
      "WARNING:sklearn.datasets.twenty_newsgroups:Downloading dataset from http://people.csail.mit.edu/jrennie/20Newsgroups/20news-bydate.tar.gz (14 MB)\n"
     ]
    }
   ],
   "source": [
    "from sklearn.datasets import fetch_20newsgroups\n",
    "import numpy as np\n",
    "from sklearn.naive_bayes import MultinomialNB\n",
    "from sklearn import metrics,cross_validation\n",
    "from sklearn.feature_extraction.text import TfidfVectorizer\n",
    "\n",
    "cats = ['alt.atheism', 'sci.med']\n",
    "newsgroups= fetch_20newsgroups(subset='all',remove=('headers', 'footers', 'quotes'), categories=cats)"
   ]
  },
  {
   "cell_type": "code",
   "execution_count": 2,
   "metadata": {
    "collapsed": false
   },
   "outputs": [
    {
     "ename": "AttributeError",
     "evalue": "'list' object has no attribute 'shape'",
     "output_type": "error",
     "traceback": [
      "\u001b[0;31m---------------------------------------------------------------------------\u001b[0m",
      "\u001b[0;31mAttributeError\u001b[0m                            Traceback (most recent call last)",
      "\u001b[0;32m<ipython-input-2-a9af9f773505>\u001b[0m in \u001b[0;36m<module>\u001b[0;34m()\u001b[0m\n\u001b[0;32m----> 1\u001b[0;31m \u001b[0mnewsgroups\u001b[0m\u001b[0;34m.\u001b[0m\u001b[0mdata\u001b[0m\u001b[0;34m.\u001b[0m\u001b[0mshape\u001b[0m\u001b[0;34m\u001b[0m\u001b[0m\n\u001b[0m",
      "\u001b[0;31mAttributeError\u001b[0m: 'list' object has no attribute 'shape'"
     ]
    }
   ],
   "source": [
    "newsgroups.data.shape"
   ]
  },
  {
   "cell_type": "markdown",
   "metadata": {},
   "source": [
    "We first loads the newsgroup data using the utility function provided by scikit-learn (this downloads the dataset from the internet and may take some time). The newsgroup object is a map, the newsgroup postings are saved against 'data', and the target variables are in newsgroups.target. "
   ]
  },
  {
   "cell_type": "code",
   "execution_count": 5,
   "metadata": {
    "collapsed": false
   },
   "outputs": [
    {
     "data": {
      "text/plain": [
       "array([1, 0, 0, ..., 0, 0, 0])"
      ]
     },
     "execution_count": 5,
     "metadata": {},
     "output_type": "execute_result"
    }
   ],
   "source": [
    "newsgroups.target"
   ]
  },
  {
   "cell_type": "markdown",
   "metadata": {},
   "source": [
    "Since the features are words, we transform them to another representation using Term Frequency-Inverse Document Frequency (Tfidf). The purpose of tfidf is to de-emphasize words that occur in all postings (such as 'the','by,'for' etc) and instead emphasize words that are unique to a particular class (such as religion, creationism which are from the alt.atheism newsgroup).\n",
    "We can do the same by creating a TfidfVectorizer and then transforming all the newsgroup data to a vector representation"
   ]
  },
  {
   "cell_type": "code",
   "execution_count": 6,
   "metadata": {
    "collapsed": false
   },
   "outputs": [],
   "source": [
    "vectorizer = TfidfVectorizer()\n",
    "vectors = vectorizer.fit_transform(newsgroups.data)"
   ]
  },
  {
   "cell_type": "markdown",
   "metadata": {},
   "source": [
    "Vectors now contains features that we can use as input data to the Naive Bayes classifier. A shape query reveals that it contains 1789 instances, and each instance contains about 24k features. However, many of those features can be 0, indicating words that do no appear in that particular posting."
   ]
  },
  {
   "cell_type": "code",
   "execution_count": 7,
   "metadata": {
    "collapsed": false
   },
   "outputs": [
    {
     "name": "stdout",
     "output_type": "stream",
     "text": [
      "  (0, 23691)\t0.152415950747\n",
      "  (0, 7722)\t0.0695804237688\n",
      "  (0, 22613)\t0.167288064641\n",
      "  (0, 19619)\t0.167288064641\n",
      "  (0, 12782)\t0.167288064641\n",
      "  (0, 905)\t0.167288064641\n",
      "  (0, 14657)\t0.140408876394\n",
      "  (0, 14373)\t0.167288064641\n",
      "  (0, 14512)\t0.158588435707\n",
      "  (0, 22822)\t0.0943122288393\n",
      "  (0, 18652)\t0.115839003601\n",
      "  (0, 12694)\t0.107799609066\n",
      "  (0, 13603)\t0.147628199455\n",
      "  (0, 3853)\t0.158588435707\n",
      "  (0, 16543)\t0.137543836854\n",
      "  (0, 22023)\t0.113096220375\n",
      "  (0, 21259)\t0.128844207919\n",
      "  (0, 11999)\t0.158588435707\n",
      "  (0, 15205)\t0.0796196634826\n",
      "  (0, 2283)\t0.0281542176195\n",
      "  (0, 11473)\t0.0973825898024\n",
      "  (0, 18632)\t0.12267172296\n",
      "  (0, 11166)\t0.158588435707\n",
      "  (0, 2117)\t0.0898124808636\n",
      "  (0, 3763)\t0.158588435707\n",
      "  :\t:\n",
      "  (1788, 15267)\t0.0180677872389\n",
      "  (1788, 7321)\t0.0230870711222\n",
      "  (1788, 23596)\t0.0267994711824\n",
      "  (1788, 19187)\t0.0671890133007\n",
      "  (1788, 15818)\t0.0262676402168\n",
      "  (1788, 21859)\t0.0353337060673\n",
      "  (1788, 23753)\t0.0309516349007\n",
      "  (1788, 24122)\t0.0244816065864\n",
      "  (1788, 2075)\t0.0234785474981\n",
      "  (1788, 21765)\t0.0737212664431\n",
      "  (1788, 21815)\t0.0217356526253\n",
      "  (1788, 2283)\t0.236630491823\n",
      "  (1788, 3272)\t0.0182611011241\n",
      "  (1788, 23965)\t0.02365953815\n",
      "  (1788, 2601)\t0.0187731723366\n",
      "  (1788, 13657)\t0.0596115896134\n",
      "  (1788, 15604)\t0.0191376481458\n",
      "  (1788, 15516)\t0.161239737995\n",
      "  (1788, 9198)\t0.0173503012211\n",
      "  (1788, 10339)\t0.0183099851086\n",
      "  (1788, 12002)\t0.0564293558948\n",
      "  (1788, 21767)\t0.320173349226\n",
      "  (1788, 22040)\t0.0129748693498\n",
      "  (1788, 24114)\t0.0178779332965\n",
      "  (1788, 12043)\t0.0456557224497\n"
     ]
    },
    {
     "data": {
      "text/plain": [
       "(1789, 24202)"
      ]
     },
     "execution_count": 7,
     "metadata": {},
     "output_type": "execute_result"
    }
   ],
   "source": [
    "print vectors\n",
    "vectors.shape"
   ]
  },
  {
   "cell_type": "markdown",
   "metadata": {},
   "source": [
    "Scikit-learn provides a few versions of Naive Bayes classifier, the one we use is called MultinomialNB. Since using a classifier typically involves splitting the dataset into train, test and validation sets, then training on the 'train' set and testing the efficacy on the 'validation' set, we can use the scikit-learn provided utility to do the same for us.\n",
    "The cross_validation.cross_val_score automatically splits the data into multiple sets and returns the F1 score (a metric that measures a classifier's accuracy)."
   ]
  },
  {
   "cell_type": "code",
   "execution_count": 8,
   "metadata": {
    "collapsed": false
   },
   "outputs": [
    {
     "name": "stdout",
     "output_type": "stream",
     "text": [
      "CrossValidation Score:  0.954420443456\n"
     ]
    }
   ],
   "source": [
    "clf = MultinomialNB(alpha=.01)\n",
    "print \"CrossValidation Score: \", np.mean(cross_validation.cross_val_score(clf,vectors, newsgroups.target, scoring='f1'))"
   ]
  },
  {
   "cell_type": "markdown",
   "metadata": {},
   "source": [
    "We can see that despite the assumption that all features are conditionally independent, the classifier maintains a decent F1 score of 95%. "
   ]
  }
 ],
 "metadata": {
  "kernelspec": {
   "display_name": "Python 2",
   "language": "python",
   "name": "python2"
  },
  "language_info": {
   "codemirror_mode": {
    "name": "ipython",
    "version": 2
   },
   "file_extension": ".py",
   "mimetype": "text/x-python",
   "name": "python",
   "nbconvert_exporter": "python",
   "pygments_lexer": "ipython2",
   "version": "2.7.9"
  }
 },
 "nbformat": 4,
 "nbformat_minor": 0
}
