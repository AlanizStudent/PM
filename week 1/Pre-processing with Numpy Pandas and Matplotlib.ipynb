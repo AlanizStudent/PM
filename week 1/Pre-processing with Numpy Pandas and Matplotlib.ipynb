{
 "cells": [
  {
   "cell_type": "code",
   "execution_count": 2,
   "metadata": {
    "collapsed": false
   },
   "outputs": [],
   "source": [
    "#the Below shows some basic munging and pre-processing using both Numpy and Pandas on a data set called video store.\n",
    "#In many cases I did the task in Numpy and then again in Pandas. Chose your favorite. \n",
    "#Also some work in Matplotlib"
   ]
  },
  {
   "cell_type": "code",
   "execution_count": 3,
   "metadata": {
    "collapsed": false
   },
   "outputs": [],
   "source": [
    "#import packages.`\n",
    "%matplotlib inline \n",
    "import numpy as np\n",
    "import matplotlib.pyplot as plt\n",
    "import pandas as pd"
   ]
  },
  {
   "cell_type": "code",
   "execution_count": 4,
   "metadata": {
    "collapsed": false
   },
   "outputs": [
    {
     "name": "stdout",
     "output_type": "stream",
     "text": [
      "/Users/mpgartland1/Documents/Documents/Depaul Courses/CSC478\n"
     ]
    }
   ],
   "source": [
    "cd /Users/mpgartland1/Documents/Documents/Depaul Courses/CSC478"
   ]
  },
  {
   "cell_type": "code",
   "execution_count": 5,
   "metadata": {
    "collapsed": false
   },
   "outputs": [],
   "source": [
    "#Import using Numpy\n",
    "video=np.genfromtxt(\"Video_Store.csv\", delimiter=\",\",dtype=None) "
   ]
  },
  {
   "cell_type": "code",
   "execution_count": 6,
   "metadata": {
    "collapsed": false
   },
   "outputs": [
    {
     "name": "stdout",
     "output_type": "stream",
     "text": [
      "[['Cust ID' 'Gender' 'Income' 'Age' 'Rentals' 'Avg Per Visit' 'Incidentals'\n",
      "  'Genre']\n",
      " ['1' 'M' '45000' '25' '32' '2.5' 'Yes' 'Action']\n",
      " ['2' 'F' '54000' '33' '12' '3.4' 'No' 'Drama']\n",
      " ['3' 'F' '32000' '20' '42' '1.6' 'No' 'Comedy']\n",
      " ['4' 'F' '59000' '70' '16' '4.2' 'Yes' 'Drama']\n",
      " ['5' 'M' '37000' '35' '25' '3.2' 'Yes' 'Action']\n",
      " ['6' 'M' '18000' '20' '29' '1.7' 'No' 'Action']\n",
      " ['7' 'F' '29000' '45' '19' '3.8' 'No' 'Drama']\n",
      " ['8' 'M' '74000' '25' '31' '2.4' 'Yes' 'Action']\n",
      " ['9' 'M' '38000' '21' '18' '2.1' 'No' 'Comedy']\n",
      " ['10' 'F' '65000' '40' '21' '3.3' 'No' 'Drama']\n",
      " ['11' 'F' '41000' '22' '48' '2.3' 'Yes' 'Drama']\n",
      " ['12' 'F' '26000' '22' '32' '2.9' 'Yes' 'Action']\n",
      " ['13' 'M' '83000' '46' '14' '3.6' 'No' 'Comedy']\n",
      " ['14' 'M' '45000' '36' '24' '2.7' 'No' 'Drama']\n",
      " ['15' 'M' '68000' '30' '36' '2.7' 'Yes' 'Comedy']\n",
      " ['16' 'M' '17000' '19' '26' '2.2' 'Yes' 'Action']\n",
      " ['17' 'M' '36000' '35' '28' '3.5' 'Yes' 'Drama']\n",
      " ['18' 'F' '6000' '16' '39' '1.8' 'Yes' 'Action']\n",
      " ['19' 'F' '24000' '25' '41' '3.1' 'No' 'Comedy']\n",
      " ['20' 'M' '12000' '16' '23' '2.2' 'Yes' 'Action']\n",
      " ['21' 'F' '47000' '52' '11' '3.1' 'No' 'Drama']\n",
      " ['22' 'M' '25000' '33' '16' '2.9' 'Yes' 'Drama']\n",
      " ['23' 'F' '2000' '15' '30' '2.5' 'No' 'Comedy']\n",
      " ['24' 'F' '79000' '35' '22' '3.8' 'Yes' 'Drama']\n",
      " ['25' 'M' '1000' '16' '25' '1.4' 'Yes' 'Comedy']\n",
      " ['26' 'F' '56000' '35' '40' '2.6' 'Yes' 'Action']\n",
      " ['27' 'F' '62000' '47' '32' '3.6' 'No' 'Drama']\n",
      " ['28' 'M' '57000' '52' '22' '4.1' 'No' 'Comedy']\n",
      " ['29' 'F' '15000' '18' '37' '2.1' 'Yes' 'Action']\n",
      " ['30' 'M' '41000' '25' '17' '1.4' 'Yes' 'Action']\n",
      " ['31' 'F' '49000' '56' '15' '3.2' 'No' 'Comedy']\n",
      " ['32' 'M' '47000' '30' '21' '3.1' 'Yes' 'Drama']\n",
      " ['33' 'M' '23000' '25' '28' '2.7' 'No' 'Action']\n",
      " ['34' 'F' '29000' '32' '19' '2.9' 'Yes' 'Action']\n",
      " ['35' 'M' '74000' '29' '43' '4.6' 'Yes' 'Action']\n",
      " ['36' 'F' '29000' '21' '34' '2.3' 'No' 'Comedy']\n",
      " ['37' 'M' '89000' '46' '12' '1.2' 'No' 'Comedy']\n",
      " ['38' 'M' '41000' '38' '20' '3.3' 'Yes' 'Drama']\n",
      " ['39' 'F' '68000' '35' '19' '3.9' 'No' 'Comedy']\n",
      " ['40' 'M' '17000' '19' '32' '1.8' 'No' 'Action']\n",
      " ['41' 'F' '50000' '33' '17' '1.4' 'No' 'Drama']\n",
      " ['42' 'M' '32000' '25' '26' '2.2' 'Yes' 'Action']\n",
      " ['43' 'F' '49000' '28' '48' '3.3' 'Yes' 'Drama']\n",
      " ['44' 'M' '35000' '24' '24' '1.7' 'No' 'Drama']\n",
      " ['45' 'M' '56000' '38' '30' '3.5' 'Yes' 'Drama']\n",
      " ['46' 'F' '57000' '43' '9' '1.1' 'No' 'Drama']\n",
      " ['47' 'F' '69000' '35' '22' '2.8' 'Yes' 'Drama']\n",
      " ['48' 'F' '52000' '47' '14' '1.6' 'No' 'Drama']\n",
      " ['49' 'M' '31000' '25' '42' '3.4' 'Yes' 'Action']\n",
      " ['50' 'M' '24000' '20' '33' '4.7' 'No' 'Action']]\n"
     ]
    }
   ],
   "source": [
    "print video\n",
    "#Note all were imported as string variables. We will fix that below."
   ]
  },
  {
   "cell_type": "code",
   "execution_count": 7,
   "metadata": {
    "collapsed": false
   },
   "outputs": [
    {
     "name": "stdout",
     "output_type": "stream",
     "text": [
      "['Cust ID' 'Gender' 'Income' 'Age' 'Rentals' 'Avg Per Visit' 'Incidentals'\n",
      " 'Genre']\n"
     ]
    }
   ],
   "source": [
    "labels=video[0]\n",
    "print labels #show shows the labels"
   ]
  },
  {
   "cell_type": "code",
   "execution_count": 8,
   "metadata": {
    "collapsed": false
   },
   "outputs": [
    {
     "name": "stdout",
     "output_type": "stream",
     "text": [
      "[['1' 'M' '45000' '25' '32' '2.5' 'Yes' 'Action']\n",
      " ['2' 'F' '54000' '33' '12' '3.4' 'No' 'Drama']\n",
      " ['3' 'F' '32000' '20' '42' '1.6' 'No' 'Comedy']\n",
      " ['4' 'F' '59000' '70' '16' '4.2' 'Yes' 'Drama']\n",
      " ['5' 'M' '37000' '35' '25' '3.2' 'Yes' 'Action']\n",
      " ['6' 'M' '18000' '20' '29' '1.7' 'No' 'Action']\n",
      " ['7' 'F' '29000' '45' '19' '3.8' 'No' 'Drama']\n",
      " ['8' 'M' '74000' '25' '31' '2.4' 'Yes' 'Action']\n",
      " ['9' 'M' '38000' '21' '18' '2.1' 'No' 'Comedy']\n",
      " ['10' 'F' '65000' '40' '21' '3.3' 'No' 'Drama']\n",
      " ['11' 'F' '41000' '22' '48' '2.3' 'Yes' 'Drama']\n",
      " ['12' 'F' '26000' '22' '32' '2.9' 'Yes' 'Action']\n",
      " ['13' 'M' '83000' '46' '14' '3.6' 'No' 'Comedy']\n",
      " ['14' 'M' '45000' '36' '24' '2.7' 'No' 'Drama']\n",
      " ['15' 'M' '68000' '30' '36' '2.7' 'Yes' 'Comedy']\n",
      " ['16' 'M' '17000' '19' '26' '2.2' 'Yes' 'Action']\n",
      " ['17' 'M' '36000' '35' '28' '3.5' 'Yes' 'Drama']\n",
      " ['18' 'F' '6000' '16' '39' '1.8' 'Yes' 'Action']\n",
      " ['19' 'F' '24000' '25' '41' '3.1' 'No' 'Comedy']\n",
      " ['20' 'M' '12000' '16' '23' '2.2' 'Yes' 'Action']\n",
      " ['21' 'F' '47000' '52' '11' '3.1' 'No' 'Drama']\n",
      " ['22' 'M' '25000' '33' '16' '2.9' 'Yes' 'Drama']\n",
      " ['23' 'F' '2000' '15' '30' '2.5' 'No' 'Comedy']\n",
      " ['24' 'F' '79000' '35' '22' '3.8' 'Yes' 'Drama']\n",
      " ['25' 'M' '1000' '16' '25' '1.4' 'Yes' 'Comedy']\n",
      " ['26' 'F' '56000' '35' '40' '2.6' 'Yes' 'Action']\n",
      " ['27' 'F' '62000' '47' '32' '3.6' 'No' 'Drama']\n",
      " ['28' 'M' '57000' '52' '22' '4.1' 'No' 'Comedy']\n",
      " ['29' 'F' '15000' '18' '37' '2.1' 'Yes' 'Action']\n",
      " ['30' 'M' '41000' '25' '17' '1.4' 'Yes' 'Action']\n",
      " ['31' 'F' '49000' '56' '15' '3.2' 'No' 'Comedy']\n",
      " ['32' 'M' '47000' '30' '21' '3.1' 'Yes' 'Drama']\n",
      " ['33' 'M' '23000' '25' '28' '2.7' 'No' 'Action']\n",
      " ['34' 'F' '29000' '32' '19' '2.9' 'Yes' 'Action']\n",
      " ['35' 'M' '74000' '29' '43' '4.6' 'Yes' 'Action']\n",
      " ['36' 'F' '29000' '21' '34' '2.3' 'No' 'Comedy']\n",
      " ['37' 'M' '89000' '46' '12' '1.2' 'No' 'Comedy']\n",
      " ['38' 'M' '41000' '38' '20' '3.3' 'Yes' 'Drama']\n",
      " ['39' 'F' '68000' '35' '19' '3.9' 'No' 'Comedy']\n",
      " ['40' 'M' '17000' '19' '32' '1.8' 'No' 'Action']\n",
      " ['41' 'F' '50000' '33' '17' '1.4' 'No' 'Drama']\n",
      " ['42' 'M' '32000' '25' '26' '2.2' 'Yes' 'Action']\n",
      " ['43' 'F' '49000' '28' '48' '3.3' 'Yes' 'Drama']\n",
      " ['44' 'M' '35000' '24' '24' '1.7' 'No' 'Drama']\n",
      " ['45' 'M' '56000' '38' '30' '3.5' 'Yes' 'Drama']\n",
      " ['46' 'F' '57000' '43' '9' '1.1' 'No' 'Drama']\n",
      " ['47' 'F' '69000' '35' '22' '2.8' 'Yes' 'Drama']\n",
      " ['48' 'F' '52000' '47' '14' '1.6' 'No' 'Drama']\n",
      " ['49' 'M' '31000' '25' '42' '3.4' 'Yes' 'Action']\n",
      " ['50' 'M' '24000' '20' '33' '4.7' 'No' 'Action']]\n"
     ]
    }
   ],
   "source": [
    "video=video[1:]\n",
    "print video #just shoes the array"
   ]
  },
  {
   "cell_type": "code",
   "execution_count": 9,
   "metadata": {
    "collapsed": false
   },
   "outputs": [
    {
     "name": "stdout",
     "output_type": "stream",
     "text": [
      "['Cust ID' 'Gender' 'Income' 'Age' 'Rentals' 'Avg Per Visit' 'Incidentals'\n",
      " 'Genre']\n"
     ]
    }
   ],
   "source": [
    "print labels"
   ]
  },
  {
   "cell_type": "code",
   "execution_count": 10,
   "metadata": {
    "collapsed": false
   },
   "outputs": [],
   "source": [
    "#convert each int and float. This takes each varaible in the array and makes it own array. Easier to handle.\n",
    "#This is also where I change the data into the proper formats. \n",
    "Cust_ID=np.array(video[:,0], dtype=int)\n",
    "Gender=np.array(video[:,1], dtype=str)\n",
    "Income=np.array(video[:,2], dtype=float)\n",
    "Age=np.array(video[:,3], dtype=int)\n",
    "Rentals=np.array(video[:,4], dtype=float)\n",
    "Avg_Per_Visit=np.array(video[:,5], dtype=float)\n",
    "Incidentals=np.array(video[:,6], dtype=str)\n",
    "Genre=np.array(video[:,7], dtype=str)"
   ]
  },
  {
   "cell_type": "code",
   "execution_count": 11,
   "metadata": {
    "collapsed": false
   },
   "outputs": [
    {
     "name": "stdout",
     "output_type": "stream",
     "text": [
      "[ 45000.  54000.  32000.  59000.  37000.  18000.  29000.  74000.  38000.\n",
      "  65000.  41000.  26000.  83000.  45000.  68000.  17000.  36000.   6000.\n",
      "  24000.  12000.  47000.  25000.   2000.  79000.   1000.  56000.  62000.\n",
      "  57000.  15000.  41000.  49000.  47000.  23000.  29000.  74000.  29000.\n",
      "  89000.  41000.  68000.  17000.  50000.  32000.  49000.  35000.  56000.\n",
      "  57000.  69000.  52000.  31000.  24000.]\n"
     ]
    }
   ],
   "source": [
    "#test income\n",
    "print Income"
   ]
  },
  {
   "cell_type": "code",
   "execution_count": 12,
   "metadata": {
    "collapsed": false
   },
   "outputs": [
    {
     "name": "stdout",
     "output_type": "stream",
     "text": [
      "['M' 'F' 'F' 'F' 'M' 'M' 'F' 'M' 'M' 'F' 'F' 'F' 'M' 'M' 'M' 'M' 'M' 'F'\n",
      " 'F' 'M' 'F' 'M' 'F' 'F' 'M' 'F' 'F' 'M' 'F' 'M' 'F' 'M' 'M' 'F' 'M' 'F'\n",
      " 'M' 'M' 'F' 'M' 'F' 'M' 'F' 'M' 'M' 'F' 'F' 'F' 'M' 'M']\n"
     ]
    }
   ],
   "source": [
    "#test Gender\n",
    "print Gender"
   ]
  },
  {
   "cell_type": "code",
   "execution_count": 13,
   "metadata": {
    "collapsed": false
   },
   "outputs": [
    {
     "name": "stdout",
     "output_type": "stream",
     "text": [
      "    Cust ID Gender  Income  Age  Rentals  Avg Per Visit Incidentals   Genre\n",
      "0         1      M   45000   25       32            2.5         Yes  Action\n",
      "1         2      F   54000   33       12            3.4          No   Drama\n",
      "2         3      F   32000   20       42            1.6          No  Comedy\n",
      "3         4      F   59000   70       16            4.2         Yes   Drama\n",
      "4         5      M   37000   35       25            3.2         Yes  Action\n",
      "5         6      M   18000   20       29            1.7          No  Action\n",
      "6         7      F   29000   45       19            3.8          No   Drama\n",
      "7         8      M   74000   25       31            2.4         Yes  Action\n",
      "8         9      M   38000   21       18            2.1          No  Comedy\n",
      "9        10      F   65000   40       21            3.3          No   Drama\n",
      "10       11      F   41000   22       48            2.3         Yes   Drama\n",
      "11       12      F   26000   22       32            2.9         Yes  Action\n",
      "12       13      M   83000   46       14            3.6          No  Comedy\n",
      "13       14      M   45000   36       24            2.7          No   Drama\n",
      "14       15      M   68000   30       36            2.7         Yes  Comedy\n",
      "15       16      M   17000   19       26            2.2         Yes  Action\n",
      "16       17      M   36000   35       28            3.5         Yes   Drama\n",
      "17       18      F    6000   16       39            1.8         Yes  Action\n",
      "18       19      F   24000   25       41            3.1          No  Comedy\n",
      "19       20      M   12000   16       23            2.2         Yes  Action\n",
      "20       21      F   47000   52       11            3.1          No   Drama\n",
      "21       22      M   25000   33       16            2.9         Yes   Drama\n",
      "22       23      F    2000   15       30            2.5          No  Comedy\n",
      "23       24      F   79000   35       22            3.8         Yes   Drama\n",
      "24       25      M    1000   16       25            1.4         Yes  Comedy\n",
      "25       26      F   56000   35       40            2.6         Yes  Action\n",
      "26       27      F   62000   47       32            3.6          No   Drama\n",
      "27       28      M   57000   52       22            4.1          No  Comedy\n",
      "28       29      F   15000   18       37            2.1         Yes  Action\n",
      "29       30      M   41000   25       17            1.4         Yes  Action\n",
      "30       31      F   49000   56       15            3.2          No  Comedy\n",
      "31       32      M   47000   30       21            3.1         Yes   Drama\n",
      "32       33      M   23000   25       28            2.7          No  Action\n",
      "33       34      F   29000   32       19            2.9         Yes  Action\n",
      "34       35      M   74000   29       43            4.6         Yes  Action\n",
      "35       36      F   29000   21       34            2.3          No  Comedy\n",
      "36       37      M   89000   46       12            1.2          No  Comedy\n",
      "37       38      M   41000   38       20            3.3         Yes   Drama\n",
      "38       39      F   68000   35       19            3.9          No  Comedy\n",
      "39       40      M   17000   19       32            1.8          No  Action\n",
      "40       41      F   50000   33       17            1.4          No   Drama\n",
      "41       42      M   32000   25       26            2.2         Yes  Action\n",
      "42       43      F   49000   28       48            3.3         Yes   Drama\n",
      "43       44      M   35000   24       24            1.7          No   Drama\n",
      "44       45      M   56000   38       30            3.5         Yes   Drama\n",
      "45       46      F   57000   43        9            1.1          No   Drama\n",
      "46       47      F   69000   35       22            2.8         Yes   Drama\n",
      "47       48      F   52000   47       14            1.6          No   Drama\n",
      "48       49      M   31000   25       42            3.4         Yes  Action\n",
      "49       50      M   24000   20       33            4.7          No  Action\n"
     ]
    }
   ],
   "source": [
    "#Import Using Pandas\n",
    "video_pandas=pd.read_csv(\"Video_Store.csv\")\n",
    "print video_pandas"
   ]
  },
  {
   "cell_type": "code",
   "execution_count": 14,
   "metadata": {
    "collapsed": false
   },
   "outputs": [
    {
     "name": "stdout",
     "output_type": "stream",
     "text": [
      "1000.0 89000.0 21194.5747775 42300.0\n"
     ]
    }
   ],
   "source": [
    "#Descriptives on Income\n",
    "print Income.min(),Income.max(),Income.std(),Income.mean()"
   ]
  },
  {
   "cell_type": "code",
   "execution_count": 15,
   "metadata": {
    "collapsed": false
   },
   "outputs": [
    {
     "name": "stdout",
     "output_type": "stream",
     "text": [
      "15 70 12.0002721058 31.56\n"
     ]
    }
   ],
   "source": [
    "#Descriptives on Age using Pandas\n",
    "print video_pandas.Age.min(),video_pandas.Age.max(),video_pandas.Age.std(),video_pandas.Age.mean()"
   ]
  },
  {
   "cell_type": "code",
   "execution_count": 16,
   "metadata": {
    "collapsed": false
   },
   "outputs": [
    {
     "name": "stdout",
     "output_type": "stream",
     "text": [
      "9.0 48.0 9.94673815881 26.32\n"
     ]
    }
   ],
   "source": [
    "#Descriptives on Rentals\n",
    "print Rentals.min(),Rentals.max(),Rentals.std(),Rentals.mean()"
   ]
  },
  {
   "cell_type": "code",
   "execution_count": 17,
   "metadata": {
    "collapsed": false
   },
   "outputs": [
    {
     "name": "stdout",
     "output_type": "stream",
     "text": [
      "1.1 4.7 0.889098419749 2.748\n"
     ]
    }
   ],
   "source": [
    "#Descriptives on Avg_Per_Visit\n",
    "print Avg_Per_Visit.min(),Avg_Per_Visit.max(),Avg_Per_Visit.std(),Avg_Per_Visit.mean()"
   ]
  },
  {
   "cell_type": "code",
   "execution_count": 18,
   "metadata": {
    "collapsed": false
   },
   "outputs": [
    {
     "data": {
      "text/plain": [
       "Cust ID             25.500\n",
       "Income           42300.000\n",
       "Age                 31.560\n",
       "Rentals             26.320\n",
       "Avg Per Visit        2.748\n",
       "dtype: float64"
      ]
     },
     "execution_count": 18,
     "metadata": {},
     "output_type": "execute_result"
    }
   ],
   "source": [
    "#descptives via Pandas\n",
    "video_pandas.mean()"
   ]
  },
  {
   "cell_type": "code",
   "execution_count": 19,
   "metadata": {
    "collapsed": false
   },
   "outputs": [
    {
     "data": {
      "text/plain": [
       "Genre\n",
       "Action    18\n",
       "Comedy    12\n",
       "Drama     20\n",
       "dtype: int64"
      ]
     },
     "execution_count": 19,
     "metadata": {},
     "output_type": "execute_result"
    }
   ],
   "source": [
    "#using pandas, count by category on a categorical variable.\n",
    "video_pandas.groupby('Genre').size()"
   ]
  },
  {
   "cell_type": "code",
   "execution_count": 20,
   "metadata": {
    "collapsed": false
   },
   "outputs": [
    {
     "name": "stdout",
     "output_type": "stream",
     "text": [
      "    Cust ID Gender  Income  Age  Rentals  Avg Per Visit Incidentals   Genre\n",
      "0         1      M   45000   25       32            2.5         Yes  Action\n",
      "1         2      F   54000   33       12            3.4          No   Drama\n",
      "2         3      F   32000   20       42            1.6          No  Comedy\n",
      "3         4      F   59000   70       16            4.2         Yes   Drama\n",
      "4         5      M   37000   35       25            3.2         Yes  Action\n",
      "7         8      M   74000   25       31            2.4         Yes  Action\n",
      "8         9      M   38000   21       18            2.1          No  Comedy\n",
      "9        10      F   65000   40       21            3.3          No   Drama\n",
      "10       11      F   41000   22       48            2.3         Yes   Drama\n",
      "12       13      M   83000   46       14            3.6          No  Comedy\n",
      "13       14      M   45000   36       24            2.7          No   Drama\n",
      "14       15      M   68000   30       36            2.7         Yes  Comedy\n",
      "16       17      M   36000   35       28            3.5         Yes   Drama\n",
      "20       21      F   47000   52       11            3.1          No   Drama\n",
      "23       24      F   79000   35       22            3.8         Yes   Drama\n",
      "25       26      F   56000   35       40            2.6         Yes  Action\n",
      "26       27      F   62000   47       32            3.6          No   Drama\n",
      "27       28      M   57000   52       22            4.1          No  Comedy\n",
      "29       30      M   41000   25       17            1.4         Yes  Action\n",
      "30       31      F   49000   56       15            3.2          No  Comedy\n",
      "31       32      M   47000   30       21            3.1         Yes   Drama\n",
      "34       35      M   74000   29       43            4.6         Yes  Action\n",
      "36       37      M   89000   46       12            1.2          No  Comedy\n",
      "37       38      M   41000   38       20            3.3         Yes   Drama\n",
      "38       39      F   68000   35       19            3.9          No  Comedy\n",
      "40       41      F   50000   33       17            1.4          No   Drama\n",
      "41       42      M   32000   25       26            2.2         Yes  Action\n",
      "42       43      F   49000   28       48            3.3         Yes   Drama\n",
      "43       44      M   35000   24       24            1.7          No   Drama\n",
      "44       45      M   56000   38       30            3.5         Yes   Drama\n",
      "45       46      F   57000   43        9            1.1          No   Drama\n",
      "46       47      F   69000   35       22            2.8         Yes   Drama\n",
      "47       48      F   52000   47       14            1.6          No   Drama\n",
      "48       49      M   31000   25       42            3.4         Yes  Action\n"
     ]
    }
   ],
   "source": [
    "#Using Pandas Query function. Custumers with incomes greater than $30K\n",
    "video_sub=video_pandas.query('Income > 30000') \n",
    "print video_sub"
   ]
  },
  {
   "cell_type": "code",
   "execution_count": 21,
   "metadata": {
    "collapsed": false
   },
   "outputs": [
    {
     "data": {
      "text/plain": [
       "Gender\n",
       "F         16\n",
       "M         18\n",
       "dtype: int64"
      ]
     },
     "execution_count": 21,
     "metadata": {},
     "output_type": "execute_result"
    }
   ],
   "source": [
    "#using pandas, count by category for a categorical variable.\n",
    "video_sub.groupby('Gender').size()"
   ]
  },
  {
   "cell_type": "code",
   "execution_count": 22,
   "metadata": {
    "collapsed": false
   },
   "outputs": [
    {
     "data": {
      "text/plain": [
       "Cust ID             26.029412\n",
       "Income           53470.588235\n",
       "Age                 35.764706\n",
       "Rentals             25.088235\n",
       "Avg Per Visit        2.835294\n",
       "dtype: float64"
      ]
     },
     "execution_count": 22,
     "metadata": {},
     "output_type": "execute_result"
    }
   ],
   "source": [
    "#Desciptives of customers with incomes greater than $30K\n",
    "video_sub.mean()"
   ]
  },
  {
   "cell_type": "code",
   "execution_count": 23,
   "metadata": {
    "collapsed": false
   },
   "outputs": [
    {
     "data": {
      "text/plain": [
       "Drama     18\n",
       "Comedy     8\n",
       "Action     8\n",
       "dtype: int64"
      ]
     },
     "execution_count": 23,
     "metadata": {},
     "output_type": "execute_result"
    }
   ],
   "source": [
    "video_sub.Genre.value_counts()"
   ]
  },
  {
   "cell_type": "code",
   "execution_count": 24,
   "metadata": {
    "collapsed": false
   },
   "outputs": [
    {
     "data": {
      "text/plain": [
       "Genre\n",
       "Action     8\n",
       "Comedy     8\n",
       "Drama     18\n",
       "dtype: int64"
      ]
     },
     "execution_count": 24,
     "metadata": {},
     "output_type": "execute_result"
    }
   ],
   "source": [
    "#using pandas, count by category for a categorical variable.\n",
    "video_sub.groupby('Genre').size()\n"
   ]
  },
  {
   "cell_type": "code",
   "execution_count": 25,
   "metadata": {
    "collapsed": false
   },
   "outputs": [],
   "source": [
    "#Transform to Z-Scores\n",
    "Age_Z=(Age-Age.mean())/Age.std()\n",
    "Income_Z=(Income-Income.mean())/Income.std()\n",
    "Rentals_Z=(Rentals-Rentals.mean())/Rentals.std()\n",
    "Avg_Per_Visit_Z=(Avg_Per_Visit-Avg_Per_Visit.mean())/Avg_Per_Visit.std()"
   ]
  },
  {
   "cell_type": "code",
   "execution_count": 26,
   "metadata": {
    "collapsed": false
   },
   "outputs": [
    {
     "name": "stdout",
     "output_type": "stream",
     "text": [
      "[25 33 20 70 35 20 45 25 21 40 22 22 46 36 30 19 35 16 25 16 52 33 15 35 16\n",
      " 35 47 52 18 25 56 30 25 32 29 21 46 38 35 19 33 25 28 24 38 43 35 47 25 20] [-0.5522042   0.12121556 -0.97309155  3.23578194  0.2895705  -0.97309155\n",
      "  1.1313452  -0.5522042  -0.88891408  0.71045785 -0.80473661 -0.80473661\n",
      "  1.21552267  0.37374797 -0.13131685 -1.05726902  0.2895705  -1.30980143\n",
      " -0.5522042  -1.30980143  1.72058749  0.12121556 -1.3939789   0.2895705\n",
      " -1.30980143  0.2895705   1.29970014  1.72058749 -1.14144649 -0.5522042\n",
      "  2.05729737 -0.13131685 -0.5522042   0.03703809 -0.21549432 -0.88891408\n",
      "  1.21552267  0.54210291  0.2895705  -1.05726902  0.12121556 -0.5522042\n",
      " -0.29967179 -0.63638167  0.54210291  0.96299026  0.2895705   1.29970014\n",
      " -0.5522042  -0.97309155] [ 45000.  54000.  32000.  59000.  37000.  18000.  29000.  74000.  38000.\n",
      "  65000.  41000.  26000.  83000.  45000.  68000.  17000.  36000.   6000.\n",
      "  24000.  12000.  47000.  25000.   2000.  79000.   1000.  56000.  62000.\n",
      "  57000.  15000.  41000.  49000.  47000.  23000.  29000.  74000.  29000.\n",
      "  89000.  41000.  68000.  17000.  50000.  32000.  49000.  35000.  56000.\n",
      "  57000.  69000.  52000.  31000.  24000.] [ 0.12739109  0.55202806 -0.48597342  0.78793749 -0.25006399 -1.14651982\n",
      " -0.62751908  1.49566577 -0.20288211  1.0710288  -0.06133645 -0.76906473\n",
      "  1.92030274  0.12739109  1.21257446 -1.1937017  -0.29724588 -1.71270244\n",
      " -0.8634285  -1.42961113  0.22175486 -0.81624662 -1.90142998  1.7315752\n",
      " -1.94861187  0.64639183  0.92948314  0.69357372 -1.28806547 -0.06133645\n",
      "  0.31611863  0.22175486 -0.91061039 -0.62751908  1.49566577 -0.62751908\n",
      "  2.20339405 -0.06133645  1.21257446 -1.1937017   0.36330052 -0.48597342\n",
      "  0.31611863 -0.34442776  0.64639183  0.69357372  1.25975634  0.45766429\n",
      " -0.53315531 -0.8634285 ] [ 32.  12.  42.  16.  25.  29.  19.  31.  18.  21.  48.  32.  14.  24.  36.\n",
      "  26.  28.  39.  41.  23.  11.  16.  30.  22.  25.  40.  32.  22.  37.  17.\n",
      "  15.  21.  28.  19.  43.  34.  12.  20.  19.  32.  17.  26.  48.  24.  30.\n",
      "   9.  22.  14.  42.  33.] [ 0.57104147 -1.43966794  1.57639618 -1.03752605 -0.13270682  0.26943506\n",
      " -0.73591964  0.470506   -0.83645511 -0.5348487   2.179609    0.57104147\n",
      " -1.238597   -0.23324229  0.97318335 -0.03217135  0.16889959  1.27478977\n",
      "  1.47586071 -0.33377776 -1.54020341 -1.03752605  0.36997053 -0.43431323\n",
      " -0.13270682  1.37532524  0.57104147 -0.43431323  1.07371882 -0.93699058\n",
      " -1.13806153 -0.5348487   0.16889959 -0.73591964  1.67693165  0.77211241\n",
      " -1.43966794 -0.63538417 -0.73591964  0.57104147 -0.93699058 -0.03217135\n",
      "  2.179609   -0.23324229  0.36997053 -1.74127435 -0.43431323 -1.238597\n",
      "  1.57639618  0.67157694] [ 2.5  3.4  1.6  4.2  3.2  1.7  3.8  2.4  2.1  3.3  2.3  2.9  3.6  2.7  2.7\n",
      "  2.2  3.5  1.8  3.1  2.2  3.1  2.9  2.5  3.8  1.4  2.6  3.6  4.1  2.1  1.4\n",
      "  3.2  3.1  2.7  2.9  4.6  2.3  1.2  3.3  3.9  1.8  1.4  2.2  3.3  1.7  3.5\n",
      "  1.1  2.8  1.6  3.4  4.7] [-0.27893425  0.73332714 -1.29119564  1.63311504  0.50838016 -1.17872215\n",
      "  1.18322109 -0.39140774 -0.7288282   0.62085365 -0.50388122  0.1709597\n",
      "  0.95827411 -0.05398727 -0.05398727 -0.61635471  0.84580063 -1.06624866\n",
      "  0.39590668 -0.61635471  0.39590668  0.1709597  -0.27893425  1.18322109\n",
      " -1.51614261 -0.16646076  0.95827411  1.52064155 -0.7288282  -1.51614261\n",
      "  0.50838016  0.39590668 -0.05398727  0.1709597   2.08300899 -0.50388122\n",
      " -1.74108959  0.62085365  1.29569458 -1.06624866 -1.51614261 -0.61635471\n",
      "  0.62085365 -1.17872215  0.84580063 -1.85356307  0.05848621 -1.29119564\n",
      "  0.73332714  2.19548248]\n"
     ]
    }
   ],
   "source": [
    "#Print Side by Side\n",
    "print Age,Age_Z, Income, Income_Z, Rentals, Rentals_Z, Avg_Per_Visit, Avg_Per_Visit_Z"
   ]
  },
  {
   "cell_type": "code",
   "execution_count": 27,
   "metadata": {
    "collapsed": false
   },
   "outputs": [
    {
     "name": "stdout",
     "output_type": "stream",
     "text": [
      "[ 0.38888889  0.63888889  0.13888889  0.86111111  0.58333333  0.16666667\n",
      "  0.75        0.36111111  0.27777778  0.61111111  0.33333333  0.5\n",
      "  0.69444444  0.44444444  0.44444444  0.30555556  0.66666667  0.19444444\n",
      "  0.55555556  0.30555556  0.55555556  0.5         0.38888889  0.75\n",
      "  0.08333333  0.41666667  0.69444444  0.83333333  0.27777778  0.08333333\n",
      "  0.58333333  0.55555556  0.44444444  0.5         0.97222222  0.33333333\n",
      "  0.02777778  0.61111111  0.77777778  0.19444444  0.08333333  0.30555556\n",
      "  0.61111111  0.16666667  0.66666667  0.          0.47222222  0.13888889\n",
      "  0.63888889  1.        ]\n",
      "70\n"
     ]
    }
   ],
   "source": [
    "#Transform to Min-Max\n",
    "Age_norm=(Age-Age.min())/(Age.max()-Age.min())\n",
    "Income_norm=(Income-Income.min())/(Income.max()-Income.min())\n",
    "Rentals_norm=(Rentals-Rentals.min())/(Rentals.max()-Rentals.min())\n",
    "Avg_Per_Visit_norm=(Avg_Per_Visit-Avg_Per_Visit.min())/(Avg_Per_Visit.max()-Avg_Per_Visit.min())\n",
    "print Avg_Per_Visit_norm\n",
    "print Age.max()"
   ]
  },
  {
   "cell_type": "code",
   "execution_count": 28,
   "metadata": {
    "collapsed": false
   },
   "outputs": [
    {
     "name": "stdout",
     "output_type": "stream",
     "text": [
      "[ 1.  0.  0.  0.  1.  1.  0.  1.  1.  0.  0.  0.  1.  1.  1.  1.  1.  0.\n",
      "  0.  1.  0.  1.  0.  0.  1.  0.  0.  1.  0.  1.  0.  1.  1.  0.  1.  0.\n",
      "  1.  1.  0.  1.  0.  1.  0.  1.  1.  0.  0.  0.  1.  1.]\n"
     ]
    }
   ],
   "source": [
    "#Convert Males to a dummy\n",
    "gend_M=np.zeros(len(Gender))\n",
    "gend_M[Gender=='M']=1\n",
    "print gend_M"
   ]
  },
  {
   "cell_type": "code",
   "execution_count": 29,
   "metadata": {
    "collapsed": false
   },
   "outputs": [
    {
     "name": "stdout",
     "output_type": "stream",
     "text": [
      "[ 0.  1.  1.  1.  0.  0.  1.  0.  0.  1.  1.  1.  0.  0.  0.  0.  0.  1.\n",
      "  1.  0.  1.  0.  1.  1.  0.  1.  1.  0.  1.  0.  1.  0.  0.  1.  0.  1.\n",
      "  0.  0.  1.  0.  1.  0.  1.  0.  0.  1.  1.  1.  0.  0.]\n"
     ]
    }
   ],
   "source": [
    "#Convert Females to a dummy\n",
    "gend_F=np.zeros(len(Gender))\n",
    "gend_F[Gender=='F']=1\n",
    "print gend_F\n"
   ]
  },
  {
   "cell_type": "code",
   "execution_count": 30,
   "metadata": {
    "collapsed": false
   },
   "outputs": [
    {
     "data": {
      "text/plain": [
       "(24.0, 26.0)"
      ]
     },
     "execution_count": 30,
     "metadata": {},
     "output_type": "execute_result"
    }
   ],
   "source": [
    "#Number of Females and Males\n",
    "np.sum(gend_F),np.sum(gend_M)\n"
   ]
  },
  {
   "cell_type": "code",
   "execution_count": 31,
   "metadata": {
    "collapsed": false
   },
   "outputs": [
    {
     "name": "stdout",
     "output_type": "stream",
     "text": [
      "[ 0.  1.  1.  0.  0.  1.  1.  0.  1.  1.  0.  0.  1.  1.  0.  0.  0.  0.\n",
      "  1.  0.  1.  0.  1.  0.  0.  0.  1.  1.  0.  0.  1.  0.  1.  0.  0.  1.\n",
      "  1.  0.  1.  1.  1.  0.  0.  1.  0.  1.  0.  1.  0.  1.]\n"
     ]
    }
   ],
   "source": [
    "#Convert Incidentals to dummy\n",
    "Incidentals_No=np.zeros(len(Incidentals))\n",
    "Incidentals_No[Incidentals=='No']=1\n",
    "print Incidentals_No"
   ]
  },
  {
   "cell_type": "code",
   "execution_count": 32,
   "metadata": {
    "collapsed": false
   },
   "outputs": [
    {
     "name": "stdout",
     "output_type": "stream",
     "text": [
      "[ 1.  0.  0.  1.  1.  0.  0.  1.  0.  0.  1.  1.  0.  0.  1.  1.  1.  1.\n",
      "  0.  1.  0.  1.  0.  1.  1.  1.  0.  0.  1.  1.  0.  1.  0.  1.  1.  0.\n",
      "  0.  1.  0.  0.  0.  1.  1.  0.  1.  0.  1.  0.  1.  0.]\n"
     ]
    }
   ],
   "source": [
    "#Convert Incidentals to dummy\n",
    "Incidentals_Yes=np.zeros(len(Incidentals))\n",
    "Incidentals_Yes[Incidentals=='Yes']=1\n",
    "print Incidentals_Yes"
   ]
  },
  {
   "cell_type": "code",
   "execution_count": 33,
   "metadata": {
    "collapsed": false
   },
   "outputs": [
    {
     "name": "stdout",
     "output_type": "stream",
     "text": [
      "['Action' 'Drama' 'Comedy' 'Drama' 'Action' 'Action' 'Drama' 'Action'\n",
      " 'Comedy' 'Drama' 'Drama' 'Action' 'Comedy' 'Drama' 'Comedy' 'Action'\n",
      " 'Drama' 'Action' 'Comedy' 'Action' 'Drama' 'Drama' 'Comedy' 'Drama'\n",
      " 'Comedy' 'Action' 'Drama' 'Comedy' 'Action' 'Action' 'Comedy' 'Drama'\n",
      " 'Action' 'Action' 'Action' 'Comedy' 'Comedy' 'Drama' 'Comedy' 'Action'\n",
      " 'Drama' 'Action' 'Drama' 'Drama' 'Drama' 'Drama' 'Drama' 'Drama' 'Action'\n",
      " 'Action']\n"
     ]
    }
   ],
   "source": [
    "print Genre"
   ]
  },
  {
   "cell_type": "code",
   "execution_count": 34,
   "metadata": {
    "collapsed": false
   },
   "outputs": [
    {
     "name": "stdout",
     "output_type": "stream",
     "text": [
      "[ 0.  1.  0.  1.  0.  0.  1.  0.  0.  1.  1.  0.  0.  1.  0.  0.  1.  0.\n",
      "  0.  0.  1.  1.  0.  1.  0.  0.  1.  0.  0.  0.  0.  1.  0.  0.  0.  0.\n",
      "  0.  1.  0.  0.  1.  0.  1.  1.  1.  1.  1.  1.  0.  0.]\n"
     ]
    }
   ],
   "source": [
    "#Convert Genre to dummy\n",
    "Genre_Drama=np.zeros(len(Genre))\n",
    "Genre_Drama[Genre=='Drama']=1\n",
    "print Genre_Drama"
   ]
  },
  {
   "cell_type": "code",
   "execution_count": 35,
   "metadata": {
    "collapsed": false
   },
   "outputs": [
    {
     "name": "stdout",
     "output_type": "stream",
     "text": [
      "[ 1.  0.  0.  0.  1.  1.  0.  1.  0.  0.  0.  1.  0.  0.  0.  1.  0.  1.\n",
      "  0.  1.  0.  0.  0.  0.  0.  1.  0.  0.  1.  1.  0.  0.  1.  1.  1.  0.\n",
      "  0.  0.  0.  1.  0.  1.  0.  0.  0.  0.  0.  0.  1.  1.]\n"
     ]
    }
   ],
   "source": [
    "#Convert Genre to dummy\n",
    "Genre_Action=np.zeros(len(Genre))\n",
    "Genre_Action[Genre=='Action']=1\n",
    "print Genre_Action"
   ]
  },
  {
   "cell_type": "code",
   "execution_count": 36,
   "metadata": {
    "collapsed": false
   },
   "outputs": [
    {
     "name": "stdout",
     "output_type": "stream",
     "text": [
      "[ 0.  0.  1.  0.  0.  0.  0.  0.  1.  0.  0.  0.  1.  0.  1.  0.  0.  0.\n",
      "  1.  0.  0.  0.  1.  0.  1.  0.  0.  1.  0.  0.  1.  0.  0.  0.  0.  1.\n",
      "  1.  0.  1.  0.  0.  0.  0.  0.  0.  0.  0.  0.  0.  0.]\n"
     ]
    }
   ],
   "source": [
    "#Convert Genre to dummy\n",
    "Genre_Comedy=np.zeros(len(Genre))\n",
    "Genre_Comedy[Genre=='Comedy']=1\n",
    "print Genre_Comedy"
   ]
  },
  {
   "cell_type": "code",
   "execution_count": 37,
   "metadata": {
    "collapsed": false
   },
   "outputs": [
    {
     "data": {
      "text/html": [
       "<div style=\"max-height:1000px;max-width:1500px;overflow:auto;\">\n",
       "<table border=\"1\" class=\"dataframe\">\n",
       "  <thead>\n",
       "    <tr style=\"text-align: right;\">\n",
       "      <th></th>\n",
       "      <th>Action</th>\n",
       "      <th>Comedy</th>\n",
       "      <th>Drama</th>\n",
       "    </tr>\n",
       "  </thead>\n",
       "  <tbody>\n",
       "    <tr>\n",
       "      <th>0 </th>\n",
       "      <td> 1</td>\n",
       "      <td> 0</td>\n",
       "      <td> 0</td>\n",
       "    </tr>\n",
       "    <tr>\n",
       "      <th>1 </th>\n",
       "      <td> 0</td>\n",
       "      <td> 0</td>\n",
       "      <td> 1</td>\n",
       "    </tr>\n",
       "    <tr>\n",
       "      <th>2 </th>\n",
       "      <td> 0</td>\n",
       "      <td> 1</td>\n",
       "      <td> 0</td>\n",
       "    </tr>\n",
       "    <tr>\n",
       "      <th>3 </th>\n",
       "      <td> 0</td>\n",
       "      <td> 0</td>\n",
       "      <td> 1</td>\n",
       "    </tr>\n",
       "    <tr>\n",
       "      <th>4 </th>\n",
       "      <td> 1</td>\n",
       "      <td> 0</td>\n",
       "      <td> 0</td>\n",
       "    </tr>\n",
       "    <tr>\n",
       "      <th>5 </th>\n",
       "      <td> 1</td>\n",
       "      <td> 0</td>\n",
       "      <td> 0</td>\n",
       "    </tr>\n",
       "    <tr>\n",
       "      <th>6 </th>\n",
       "      <td> 0</td>\n",
       "      <td> 0</td>\n",
       "      <td> 1</td>\n",
       "    </tr>\n",
       "    <tr>\n",
       "      <th>7 </th>\n",
       "      <td> 1</td>\n",
       "      <td> 0</td>\n",
       "      <td> 0</td>\n",
       "    </tr>\n",
       "    <tr>\n",
       "      <th>8 </th>\n",
       "      <td> 0</td>\n",
       "      <td> 1</td>\n",
       "      <td> 0</td>\n",
       "    </tr>\n",
       "    <tr>\n",
       "      <th>9 </th>\n",
       "      <td> 0</td>\n",
       "      <td> 0</td>\n",
       "      <td> 1</td>\n",
       "    </tr>\n",
       "    <tr>\n",
       "      <th>10</th>\n",
       "      <td> 0</td>\n",
       "      <td> 0</td>\n",
       "      <td> 1</td>\n",
       "    </tr>\n",
       "    <tr>\n",
       "      <th>11</th>\n",
       "      <td> 1</td>\n",
       "      <td> 0</td>\n",
       "      <td> 0</td>\n",
       "    </tr>\n",
       "    <tr>\n",
       "      <th>12</th>\n",
       "      <td> 0</td>\n",
       "      <td> 1</td>\n",
       "      <td> 0</td>\n",
       "    </tr>\n",
       "    <tr>\n",
       "      <th>13</th>\n",
       "      <td> 0</td>\n",
       "      <td> 0</td>\n",
       "      <td> 1</td>\n",
       "    </tr>\n",
       "    <tr>\n",
       "      <th>14</th>\n",
       "      <td> 0</td>\n",
       "      <td> 1</td>\n",
       "      <td> 0</td>\n",
       "    </tr>\n",
       "    <tr>\n",
       "      <th>15</th>\n",
       "      <td> 1</td>\n",
       "      <td> 0</td>\n",
       "      <td> 0</td>\n",
       "    </tr>\n",
       "    <tr>\n",
       "      <th>16</th>\n",
       "      <td> 0</td>\n",
       "      <td> 0</td>\n",
       "      <td> 1</td>\n",
       "    </tr>\n",
       "    <tr>\n",
       "      <th>17</th>\n",
       "      <td> 1</td>\n",
       "      <td> 0</td>\n",
       "      <td> 0</td>\n",
       "    </tr>\n",
       "    <tr>\n",
       "      <th>18</th>\n",
       "      <td> 0</td>\n",
       "      <td> 1</td>\n",
       "      <td> 0</td>\n",
       "    </tr>\n",
       "    <tr>\n",
       "      <th>19</th>\n",
       "      <td> 1</td>\n",
       "      <td> 0</td>\n",
       "      <td> 0</td>\n",
       "    </tr>\n",
       "    <tr>\n",
       "      <th>20</th>\n",
       "      <td> 0</td>\n",
       "      <td> 0</td>\n",
       "      <td> 1</td>\n",
       "    </tr>\n",
       "    <tr>\n",
       "      <th>21</th>\n",
       "      <td> 0</td>\n",
       "      <td> 0</td>\n",
       "      <td> 1</td>\n",
       "    </tr>\n",
       "    <tr>\n",
       "      <th>22</th>\n",
       "      <td> 0</td>\n",
       "      <td> 1</td>\n",
       "      <td> 0</td>\n",
       "    </tr>\n",
       "    <tr>\n",
       "      <th>23</th>\n",
       "      <td> 0</td>\n",
       "      <td> 0</td>\n",
       "      <td> 1</td>\n",
       "    </tr>\n",
       "    <tr>\n",
       "      <th>24</th>\n",
       "      <td> 0</td>\n",
       "      <td> 1</td>\n",
       "      <td> 0</td>\n",
       "    </tr>\n",
       "    <tr>\n",
       "      <th>25</th>\n",
       "      <td> 1</td>\n",
       "      <td> 0</td>\n",
       "      <td> 0</td>\n",
       "    </tr>\n",
       "    <tr>\n",
       "      <th>26</th>\n",
       "      <td> 0</td>\n",
       "      <td> 0</td>\n",
       "      <td> 1</td>\n",
       "    </tr>\n",
       "    <tr>\n",
       "      <th>27</th>\n",
       "      <td> 0</td>\n",
       "      <td> 1</td>\n",
       "      <td> 0</td>\n",
       "    </tr>\n",
       "    <tr>\n",
       "      <th>28</th>\n",
       "      <td> 1</td>\n",
       "      <td> 0</td>\n",
       "      <td> 0</td>\n",
       "    </tr>\n",
       "    <tr>\n",
       "      <th>29</th>\n",
       "      <td> 1</td>\n",
       "      <td> 0</td>\n",
       "      <td> 0</td>\n",
       "    </tr>\n",
       "    <tr>\n",
       "      <th>30</th>\n",
       "      <td> 0</td>\n",
       "      <td> 1</td>\n",
       "      <td> 0</td>\n",
       "    </tr>\n",
       "    <tr>\n",
       "      <th>31</th>\n",
       "      <td> 0</td>\n",
       "      <td> 0</td>\n",
       "      <td> 1</td>\n",
       "    </tr>\n",
       "    <tr>\n",
       "      <th>32</th>\n",
       "      <td> 1</td>\n",
       "      <td> 0</td>\n",
       "      <td> 0</td>\n",
       "    </tr>\n",
       "    <tr>\n",
       "      <th>33</th>\n",
       "      <td> 1</td>\n",
       "      <td> 0</td>\n",
       "      <td> 0</td>\n",
       "    </tr>\n",
       "    <tr>\n",
       "      <th>34</th>\n",
       "      <td> 1</td>\n",
       "      <td> 0</td>\n",
       "      <td> 0</td>\n",
       "    </tr>\n",
       "    <tr>\n",
       "      <th>35</th>\n",
       "      <td> 0</td>\n",
       "      <td> 1</td>\n",
       "      <td> 0</td>\n",
       "    </tr>\n",
       "    <tr>\n",
       "      <th>36</th>\n",
       "      <td> 0</td>\n",
       "      <td> 1</td>\n",
       "      <td> 0</td>\n",
       "    </tr>\n",
       "    <tr>\n",
       "      <th>37</th>\n",
       "      <td> 0</td>\n",
       "      <td> 0</td>\n",
       "      <td> 1</td>\n",
       "    </tr>\n",
       "    <tr>\n",
       "      <th>38</th>\n",
       "      <td> 0</td>\n",
       "      <td> 1</td>\n",
       "      <td> 0</td>\n",
       "    </tr>\n",
       "    <tr>\n",
       "      <th>39</th>\n",
       "      <td> 1</td>\n",
       "      <td> 0</td>\n",
       "      <td> 0</td>\n",
       "    </tr>\n",
       "    <tr>\n",
       "      <th>40</th>\n",
       "      <td> 0</td>\n",
       "      <td> 0</td>\n",
       "      <td> 1</td>\n",
       "    </tr>\n",
       "    <tr>\n",
       "      <th>41</th>\n",
       "      <td> 1</td>\n",
       "      <td> 0</td>\n",
       "      <td> 0</td>\n",
       "    </tr>\n",
       "    <tr>\n",
       "      <th>42</th>\n",
       "      <td> 0</td>\n",
       "      <td> 0</td>\n",
       "      <td> 1</td>\n",
       "    </tr>\n",
       "    <tr>\n",
       "      <th>43</th>\n",
       "      <td> 0</td>\n",
       "      <td> 0</td>\n",
       "      <td> 1</td>\n",
       "    </tr>\n",
       "    <tr>\n",
       "      <th>44</th>\n",
       "      <td> 0</td>\n",
       "      <td> 0</td>\n",
       "      <td> 1</td>\n",
       "    </tr>\n",
       "    <tr>\n",
       "      <th>45</th>\n",
       "      <td> 0</td>\n",
       "      <td> 0</td>\n",
       "      <td> 1</td>\n",
       "    </tr>\n",
       "    <tr>\n",
       "      <th>46</th>\n",
       "      <td> 0</td>\n",
       "      <td> 0</td>\n",
       "      <td> 1</td>\n",
       "    </tr>\n",
       "    <tr>\n",
       "      <th>47</th>\n",
       "      <td> 0</td>\n",
       "      <td> 0</td>\n",
       "      <td> 1</td>\n",
       "    </tr>\n",
       "    <tr>\n",
       "      <th>48</th>\n",
       "      <td> 1</td>\n",
       "      <td> 0</td>\n",
       "      <td> 0</td>\n",
       "    </tr>\n",
       "    <tr>\n",
       "      <th>49</th>\n",
       "      <td> 1</td>\n",
       "      <td> 0</td>\n",
       "      <td> 0</td>\n",
       "    </tr>\n",
       "  </tbody>\n",
       "</table>\n",
       "</div>"
      ],
      "text/plain": [
       "    Action  Comedy  Drama\n",
       "0        1       0      0\n",
       "1        0       0      1\n",
       "2        0       1      0\n",
       "3        0       0      1\n",
       "4        1       0      0\n",
       "5        1       0      0\n",
       "6        0       0      1\n",
       "7        1       0      0\n",
       "8        0       1      0\n",
       "9        0       0      1\n",
       "10       0       0      1\n",
       "11       1       0      0\n",
       "12       0       1      0\n",
       "13       0       0      1\n",
       "14       0       1      0\n",
       "15       1       0      0\n",
       "16       0       0      1\n",
       "17       1       0      0\n",
       "18       0       1      0\n",
       "19       1       0      0\n",
       "20       0       0      1\n",
       "21       0       0      1\n",
       "22       0       1      0\n",
       "23       0       0      1\n",
       "24       0       1      0\n",
       "25       1       0      0\n",
       "26       0       0      1\n",
       "27       0       1      0\n",
       "28       1       0      0\n",
       "29       1       0      0\n",
       "30       0       1      0\n",
       "31       0       0      1\n",
       "32       1       0      0\n",
       "33       1       0      0\n",
       "34       1       0      0\n",
       "35       0       1      0\n",
       "36       0       1      0\n",
       "37       0       0      1\n",
       "38       0       1      0\n",
       "39       1       0      0\n",
       "40       0       0      1\n",
       "41       1       0      0\n",
       "42       0       0      1\n",
       "43       0       0      1\n",
       "44       0       0      1\n",
       "45       0       0      1\n",
       "46       0       0      1\n",
       "47       0       0      1\n",
       "48       1       0      0\n",
       "49       1       0      0"
      ]
     },
     "execution_count": 37,
     "metadata": {},
     "output_type": "execute_result"
    }
   ],
   "source": [
    "#Dummies via Pandas\n",
    "pd.get_dummies(video_pandas['Genre'])"
   ]
  },
  {
   "cell_type": "code",
   "execution_count": 38,
   "metadata": {
    "collapsed": false
   },
   "outputs": [
    {
     "data": {
      "text/plain": [
       "(18.0, 12.0, 20.0)"
      ]
     },
     "execution_count": 38,
     "metadata": {},
     "output_type": "execute_result"
    }
   ],
   "source": [
    "#Number of Movies by Type\n",
    "np.sum(Genre_Action), np.sum(Genre_Comedy), np.sum(Genre_Drama)"
   ]
  },
  {
   "cell_type": "code",
   "execution_count": 39,
   "metadata": {
    "collapsed": false
   },
   "outputs": [
    {
     "name": "stdout",
     "output_type": "stream",
     "text": [
      "[[  1.00000000e+00   0.00000000e+00   1.00000000e+00   5.00000000e-01\n",
      "   -5.52204203e-01   5.89743590e-01   3.88888889e-01   0.00000000e+00\n",
      "    1.00000000e+00   1.00000000e+00   0.00000000e+00   0.00000000e+00]\n",
      " [  2.00000000e+00   1.00000000e+00   0.00000000e+00   6.02272727e-01\n",
      "    1.21215557e-01   7.69230769e-02   6.38888889e-01   1.00000000e+00\n",
      "    0.00000000e+00   0.00000000e+00   0.00000000e+00   1.00000000e+00]\n",
      " [  3.00000000e+00   1.00000000e+00   0.00000000e+00   3.52272727e-01\n",
      "   -9.73091553e-01   8.46153846e-01   1.38888889e-01   1.00000000e+00\n",
      "    0.00000000e+00   0.00000000e+00   1.00000000e+00   0.00000000e+00]\n",
      " [  4.00000000e+00   1.00000000e+00   0.00000000e+00   6.59090909e-01\n",
      "    3.23578194e+00   1.79487179e-01   8.61111111e-01   0.00000000e+00\n",
      "    1.00000000e+00   0.00000000e+00   0.00000000e+00   1.00000000e+00]\n",
      " [  5.00000000e+00   0.00000000e+00   1.00000000e+00   4.09090909e-01\n",
      "    2.89570497e-01   4.10256410e-01   5.83333333e-01   0.00000000e+00\n",
      "    1.00000000e+00   1.00000000e+00   0.00000000e+00   0.00000000e+00]\n",
      " [  6.00000000e+00   0.00000000e+00   1.00000000e+00   1.93181818e-01\n",
      "   -9.73091553e-01   5.12820513e-01   1.66666667e-01   1.00000000e+00\n",
      "    0.00000000e+00   1.00000000e+00   0.00000000e+00   0.00000000e+00]\n",
      " [  7.00000000e+00   1.00000000e+00   0.00000000e+00   3.18181818e-01\n",
      "    1.13134520e+00   2.56410256e-01   7.50000000e-01   1.00000000e+00\n",
      "    0.00000000e+00   0.00000000e+00   0.00000000e+00   1.00000000e+00]\n",
      " [  8.00000000e+00   0.00000000e+00   1.00000000e+00   8.29545455e-01\n",
      "   -5.52204203e-01   5.64102564e-01   3.61111111e-01   0.00000000e+00\n",
      "    1.00000000e+00   1.00000000e+00   0.00000000e+00   0.00000000e+00]\n",
      " [  9.00000000e+00   0.00000000e+00   1.00000000e+00   4.20454545e-01\n",
      "   -8.88914083e-01   2.30769231e-01   2.77777778e-01   1.00000000e+00\n",
      "    0.00000000e+00   0.00000000e+00   1.00000000e+00   0.00000000e+00]\n",
      " [  1.00000000e+01   1.00000000e+00   0.00000000e+00   7.27272727e-01\n",
      "    7.10457846e-01   3.07692308e-01   6.11111111e-01   1.00000000e+00\n",
      "    0.00000000e+00   0.00000000e+00   0.00000000e+00   1.00000000e+00]\n",
      " [  1.10000000e+01   1.00000000e+00   0.00000000e+00   4.54545455e-01\n",
      "   -8.04736613e-01   1.00000000e+00   3.33333333e-01   0.00000000e+00\n",
      "    1.00000000e+00   0.00000000e+00   0.00000000e+00   1.00000000e+00]\n",
      " [  1.20000000e+01   1.00000000e+00   0.00000000e+00   2.84090909e-01\n",
      "   -8.04736613e-01   5.89743590e-01   5.00000000e-01   0.00000000e+00\n",
      "    1.00000000e+00   1.00000000e+00   0.00000000e+00   0.00000000e+00]\n",
      " [  1.30000000e+01   0.00000000e+00   1.00000000e+00   9.31818182e-01\n",
      "    1.21552267e+00   1.28205128e-01   6.94444444e-01   1.00000000e+00\n",
      "    0.00000000e+00   0.00000000e+00   1.00000000e+00   0.00000000e+00]\n",
      " [  1.40000000e+01   0.00000000e+00   1.00000000e+00   5.00000000e-01\n",
      "    3.73747967e-01   3.84615385e-01   4.44444444e-01   1.00000000e+00\n",
      "    0.00000000e+00   0.00000000e+00   0.00000000e+00   1.00000000e+00]\n",
      " [  1.50000000e+01   0.00000000e+00   1.00000000e+00   7.61363636e-01\n",
      "   -1.31316853e-01   6.92307692e-01   4.44444444e-01   0.00000000e+00\n",
      "    1.00000000e+00   0.00000000e+00   1.00000000e+00   0.00000000e+00]\n",
      " [  1.60000000e+01   0.00000000e+00   1.00000000e+00   1.81818182e-01\n",
      "   -1.05726902e+00   4.35897436e-01   3.05555556e-01   0.00000000e+00\n",
      "    1.00000000e+00   1.00000000e+00   0.00000000e+00   0.00000000e+00]\n",
      " [  1.70000000e+01   0.00000000e+00   1.00000000e+00   3.97727273e-01\n",
      "    2.89570497e-01   4.87179487e-01   6.66666667e-01   0.00000000e+00\n",
      "    1.00000000e+00   0.00000000e+00   0.00000000e+00   1.00000000e+00]\n",
      " [  1.80000000e+01   1.00000000e+00   0.00000000e+00   5.68181818e-02\n",
      "   -1.30980143e+00   7.69230769e-01   1.94444444e-01   0.00000000e+00\n",
      "    1.00000000e+00   1.00000000e+00   0.00000000e+00   0.00000000e+00]\n",
      " [  1.90000000e+01   1.00000000e+00   0.00000000e+00   2.61363636e-01\n",
      "   -5.52204203e-01   8.20512821e-01   5.55555556e-01   1.00000000e+00\n",
      "    0.00000000e+00   0.00000000e+00   1.00000000e+00   0.00000000e+00]\n",
      " [  2.00000000e+01   0.00000000e+00   1.00000000e+00   1.25000000e-01\n",
      "   -1.30980143e+00   3.58974359e-01   3.05555556e-01   0.00000000e+00\n",
      "    1.00000000e+00   1.00000000e+00   0.00000000e+00   0.00000000e+00]\n",
      " [  2.10000000e+01   1.00000000e+00   0.00000000e+00   5.22727273e-01\n",
      "    1.72058749e+00   5.12820513e-02   5.55555556e-01   1.00000000e+00\n",
      "    0.00000000e+00   0.00000000e+00   0.00000000e+00   1.00000000e+00]\n",
      " [  2.20000000e+01   0.00000000e+00   1.00000000e+00   2.72727273e-01\n",
      "    1.21215557e-01   1.79487179e-01   5.00000000e-01   0.00000000e+00\n",
      "    1.00000000e+00   0.00000000e+00   0.00000000e+00   1.00000000e+00]\n",
      " [  2.30000000e+01   1.00000000e+00   0.00000000e+00   1.13636364e-02\n",
      "   -1.39397890e+00   5.38461538e-01   3.88888889e-01   1.00000000e+00\n",
      "    0.00000000e+00   0.00000000e+00   1.00000000e+00   0.00000000e+00]\n",
      " [  2.40000000e+01   1.00000000e+00   0.00000000e+00   8.86363636e-01\n",
      "    2.89570497e-01   3.33333333e-01   7.50000000e-01   0.00000000e+00\n",
      "    1.00000000e+00   0.00000000e+00   0.00000000e+00   1.00000000e+00]\n",
      " [  2.50000000e+01   0.00000000e+00   1.00000000e+00   0.00000000e+00\n",
      "   -1.30980143e+00   4.10256410e-01   8.33333333e-02   0.00000000e+00\n",
      "    1.00000000e+00   0.00000000e+00   1.00000000e+00   0.00000000e+00]\n",
      " [  2.60000000e+01   1.00000000e+00   0.00000000e+00   6.25000000e-01\n",
      "    2.89570497e-01   7.94871795e-01   4.16666667e-01   0.00000000e+00\n",
      "    1.00000000e+00   1.00000000e+00   0.00000000e+00   0.00000000e+00]\n",
      " [  2.70000000e+01   1.00000000e+00   0.00000000e+00   6.93181818e-01\n",
      "    1.29970014e+00   5.89743590e-01   6.94444444e-01   1.00000000e+00\n",
      "    0.00000000e+00   0.00000000e+00   0.00000000e+00   1.00000000e+00]\n",
      " [  2.80000000e+01   0.00000000e+00   1.00000000e+00   6.36363636e-01\n",
      "    1.72058749e+00   3.33333333e-01   8.33333333e-01   1.00000000e+00\n",
      "    0.00000000e+00   0.00000000e+00   1.00000000e+00   0.00000000e+00]\n",
      " [  2.90000000e+01   1.00000000e+00   0.00000000e+00   1.59090909e-01\n",
      "   -1.14144649e+00   7.17948718e-01   2.77777778e-01   0.00000000e+00\n",
      "    1.00000000e+00   1.00000000e+00   0.00000000e+00   0.00000000e+00]\n",
      " [  3.00000000e+01   0.00000000e+00   1.00000000e+00   4.54545455e-01\n",
      "   -5.52204203e-01   2.05128205e-01   8.33333333e-02   0.00000000e+00\n",
      "    1.00000000e+00   1.00000000e+00   0.00000000e+00   0.00000000e+00]\n",
      " [  3.10000000e+01   1.00000000e+00   0.00000000e+00   5.45454545e-01\n",
      "    2.05729737e+00   1.53846154e-01   5.83333333e-01   1.00000000e+00\n",
      "    0.00000000e+00   0.00000000e+00   1.00000000e+00   0.00000000e+00]\n",
      " [  3.20000000e+01   0.00000000e+00   1.00000000e+00   5.22727273e-01\n",
      "   -1.31316853e-01   3.07692308e-01   5.55555556e-01   0.00000000e+00\n",
      "    1.00000000e+00   0.00000000e+00   0.00000000e+00   1.00000000e+00]\n",
      " [  3.30000000e+01   0.00000000e+00   1.00000000e+00   2.50000000e-01\n",
      "   -5.52204203e-01   4.87179487e-01   4.44444444e-01   1.00000000e+00\n",
      "    0.00000000e+00   1.00000000e+00   0.00000000e+00   0.00000000e+00]\n",
      " [  3.40000000e+01   1.00000000e+00   0.00000000e+00   3.18181818e-01\n",
      "    3.70380868e-02   2.56410256e-01   5.00000000e-01   0.00000000e+00\n",
      "    1.00000000e+00   1.00000000e+00   0.00000000e+00   0.00000000e+00]\n",
      " [  3.50000000e+01   0.00000000e+00   1.00000000e+00   8.29545455e-01\n",
      "   -2.15494323e-01   8.71794872e-01   9.72222222e-01   0.00000000e+00\n",
      "    1.00000000e+00   1.00000000e+00   0.00000000e+00   0.00000000e+00]\n",
      " [  3.60000000e+01   1.00000000e+00   0.00000000e+00   3.18181818e-01\n",
      "   -8.88914083e-01   6.41025641e-01   3.33333333e-01   1.00000000e+00\n",
      "    0.00000000e+00   0.00000000e+00   1.00000000e+00   0.00000000e+00]\n",
      " [  3.70000000e+01   0.00000000e+00   1.00000000e+00   1.00000000e+00\n",
      "    1.21552267e+00   7.69230769e-02   2.77777778e-02   1.00000000e+00\n",
      "    0.00000000e+00   0.00000000e+00   1.00000000e+00   0.00000000e+00]\n",
      " [  3.80000000e+01   0.00000000e+00   1.00000000e+00   4.54545455e-01\n",
      "    5.42102906e-01   2.82051282e-01   6.11111111e-01   0.00000000e+00\n",
      "    1.00000000e+00   0.00000000e+00   0.00000000e+00   1.00000000e+00]\n",
      " [  3.90000000e+01   1.00000000e+00   0.00000000e+00   7.61363636e-01\n",
      "    2.89570497e-01   2.56410256e-01   7.77777778e-01   1.00000000e+00\n",
      "    0.00000000e+00   0.00000000e+00   1.00000000e+00   0.00000000e+00]\n",
      " [  4.00000000e+01   0.00000000e+00   1.00000000e+00   1.81818182e-01\n",
      "   -1.05726902e+00   5.89743590e-01   1.94444444e-01   1.00000000e+00\n",
      "    0.00000000e+00   1.00000000e+00   0.00000000e+00   0.00000000e+00]\n",
      " [  4.10000000e+01   1.00000000e+00   0.00000000e+00   5.56818182e-01\n",
      "    1.21215557e-01   2.05128205e-01   8.33333333e-02   1.00000000e+00\n",
      "    0.00000000e+00   0.00000000e+00   0.00000000e+00   1.00000000e+00]\n",
      " [  4.20000000e+01   0.00000000e+00   1.00000000e+00   3.52272727e-01\n",
      "   -5.52204203e-01   4.35897436e-01   3.05555556e-01   0.00000000e+00\n",
      "    1.00000000e+00   1.00000000e+00   0.00000000e+00   0.00000000e+00]\n",
      " [  4.30000000e+01   1.00000000e+00   0.00000000e+00   5.45454545e-01\n",
      "   -2.99671793e-01   1.00000000e+00   6.11111111e-01   0.00000000e+00\n",
      "    1.00000000e+00   0.00000000e+00   0.00000000e+00   1.00000000e+00]\n",
      " [  4.40000000e+01   0.00000000e+00   1.00000000e+00   3.86363636e-01\n",
      "   -6.36381673e-01   3.84615385e-01   1.66666667e-01   1.00000000e+00\n",
      "    0.00000000e+00   0.00000000e+00   0.00000000e+00   1.00000000e+00]\n",
      " [  4.50000000e+01   0.00000000e+00   1.00000000e+00   6.25000000e-01\n",
      "    5.42102906e-01   5.38461538e-01   6.66666667e-01   0.00000000e+00\n",
      "    1.00000000e+00   0.00000000e+00   0.00000000e+00   1.00000000e+00]\n",
      " [  4.60000000e+01   1.00000000e+00   0.00000000e+00   6.36363636e-01\n",
      "    9.62990256e-01   0.00000000e+00   0.00000000e+00   1.00000000e+00\n",
      "    0.00000000e+00   0.00000000e+00   0.00000000e+00   1.00000000e+00]\n",
      " [  4.70000000e+01   1.00000000e+00   0.00000000e+00   7.72727273e-01\n",
      "    2.89570497e-01   3.33333333e-01   4.72222222e-01   0.00000000e+00\n",
      "    1.00000000e+00   0.00000000e+00   0.00000000e+00   1.00000000e+00]\n",
      " [  4.80000000e+01   1.00000000e+00   0.00000000e+00   5.79545455e-01\n",
      "    1.29970014e+00   1.28205128e-01   1.38888889e-01   1.00000000e+00\n",
      "    0.00000000e+00   0.00000000e+00   0.00000000e+00   1.00000000e+00]\n",
      " [  4.90000000e+01   0.00000000e+00   1.00000000e+00   3.40909091e-01\n",
      "   -5.52204203e-01   8.46153846e-01   6.38888889e-01   0.00000000e+00\n",
      "    1.00000000e+00   1.00000000e+00   0.00000000e+00   0.00000000e+00]\n",
      " [  5.00000000e+01   0.00000000e+00   1.00000000e+00   2.61363636e-01\n",
      "   -9.73091553e-01   6.15384615e-01   1.00000000e+00   1.00000000e+00\n",
      "    0.00000000e+00   1.00000000e+00   0.00000000e+00   0.00000000e+00]]\n"
     ]
    }
   ],
   "source": [
    "Video_conver= np.array([Cust_ID,gend_F,gend_M,Income_norm,Age_Z, Rentals_norm,Avg_Per_Visit_norm,Incidentals_No,Incidentals_Yes,Genre_Action,Genre_Comedy, Genre_Drama])\n",
    "Video_conver=Video_conver.T\n",
    "print Video_conver"
   ]
  },
  {
   "cell_type": "code",
   "execution_count": 40,
   "metadata": {
    "collapsed": false
   },
   "outputs": [
    {
     "name": "stdout",
     "output_type": "stream",
     "text": [
      "    Cust_ID  gend_F  gend_M  Income_norm     Age_Z  Rentals_norm  \\\n",
      "0         1       0       1     0.500000 -0.552204      0.589744   \n",
      "1         2       1       0     0.602273  0.121216      0.076923   \n",
      "2         3       1       0     0.352273 -0.973092      0.846154   \n",
      "3         4       1       0     0.659091  3.235782      0.179487   \n",
      "4         5       0       1     0.409091  0.289570      0.410256   \n",
      "5         6       0       1     0.193182 -0.973092      0.512821   \n",
      "6         7       1       0     0.318182  1.131345      0.256410   \n",
      "7         8       0       1     0.829545 -0.552204      0.564103   \n",
      "8         9       0       1     0.420455 -0.888914      0.230769   \n",
      "9        10       1       0     0.727273  0.710458      0.307692   \n",
      "10       11       1       0     0.454545 -0.804737      1.000000   \n",
      "11       12       1       0     0.284091 -0.804737      0.589744   \n",
      "12       13       0       1     0.931818  1.215523      0.128205   \n",
      "13       14       0       1     0.500000  0.373748      0.384615   \n",
      "14       15       0       1     0.761364 -0.131317      0.692308   \n",
      "15       16       0       1     0.181818 -1.057269      0.435897   \n",
      "16       17       0       1     0.397727  0.289570      0.487179   \n",
      "17       18       1       0     0.056818 -1.309801      0.769231   \n",
      "18       19       1       0     0.261364 -0.552204      0.820513   \n",
      "19       20       0       1     0.125000 -1.309801      0.358974   \n",
      "20       21       1       0     0.522727  1.720587      0.051282   \n",
      "21       22       0       1     0.272727  0.121216      0.179487   \n",
      "22       23       1       0     0.011364 -1.393979      0.538462   \n",
      "23       24       1       0     0.886364  0.289570      0.333333   \n",
      "24       25       0       1     0.000000 -1.309801      0.410256   \n",
      "25       26       1       0     0.625000  0.289570      0.794872   \n",
      "26       27       1       0     0.693182  1.299700      0.589744   \n",
      "27       28       0       1     0.636364  1.720587      0.333333   \n",
      "28       29       1       0     0.159091 -1.141446      0.717949   \n",
      "29       30       0       1     0.454545 -0.552204      0.205128   \n",
      "30       31       1       0     0.545455  2.057297      0.153846   \n",
      "31       32       0       1     0.522727 -0.131317      0.307692   \n",
      "32       33       0       1     0.250000 -0.552204      0.487179   \n",
      "33       34       1       0     0.318182  0.037038      0.256410   \n",
      "34       35       0       1     0.829545 -0.215494      0.871795   \n",
      "35       36       1       0     0.318182 -0.888914      0.641026   \n",
      "36       37       0       1     1.000000  1.215523      0.076923   \n",
      "37       38       0       1     0.454545  0.542103      0.282051   \n",
      "38       39       1       0     0.761364  0.289570      0.256410   \n",
      "39       40       0       1     0.181818 -1.057269      0.589744   \n",
      "40       41       1       0     0.556818  0.121216      0.205128   \n",
      "41       42       0       1     0.352273 -0.552204      0.435897   \n",
      "42       43       1       0     0.545455 -0.299672      1.000000   \n",
      "43       44       0       1     0.386364 -0.636382      0.384615   \n",
      "44       45       0       1     0.625000  0.542103      0.538462   \n",
      "45       46       1       0     0.636364  0.962990      0.000000   \n",
      "46       47       1       0     0.772727  0.289570      0.333333   \n",
      "47       48       1       0     0.579545  1.299700      0.128205   \n",
      "48       49       0       1     0.340909 -0.552204      0.846154   \n",
      "49       50       0       1     0.261364 -0.973092      0.615385   \n",
      "\n",
      "    Avg_Per_Visit_norm  Incidentals_No  Incidentals_Yes  Genre_Action  \\\n",
      "0             0.388889               0                1             1   \n",
      "1             0.638889               1                0             0   \n",
      "2             0.138889               1                0             0   \n",
      "3             0.861111               0                1             0   \n",
      "4             0.583333               0                1             1   \n",
      "5             0.166667               1                0             1   \n",
      "6             0.750000               1                0             0   \n",
      "7             0.361111               0                1             1   \n",
      "8             0.277778               1                0             0   \n",
      "9             0.611111               1                0             0   \n",
      "10            0.333333               0                1             0   \n",
      "11            0.500000               0                1             1   \n",
      "12            0.694444               1                0             0   \n",
      "13            0.444444               1                0             0   \n",
      "14            0.444444               0                1             0   \n",
      "15            0.305556               0                1             1   \n",
      "16            0.666667               0                1             0   \n",
      "17            0.194444               0                1             1   \n",
      "18            0.555556               1                0             0   \n",
      "19            0.305556               0                1             1   \n",
      "20            0.555556               1                0             0   \n",
      "21            0.500000               0                1             0   \n",
      "22            0.388889               1                0             0   \n",
      "23            0.750000               0                1             0   \n",
      "24            0.083333               0                1             0   \n",
      "25            0.416667               0                1             1   \n",
      "26            0.694444               1                0             0   \n",
      "27            0.833333               1                0             0   \n",
      "28            0.277778               0                1             1   \n",
      "29            0.083333               0                1             1   \n",
      "30            0.583333               1                0             0   \n",
      "31            0.555556               0                1             0   \n",
      "32            0.444444               1                0             1   \n",
      "33            0.500000               0                1             1   \n",
      "34            0.972222               0                1             1   \n",
      "35            0.333333               1                0             0   \n",
      "36            0.027778               1                0             0   \n",
      "37            0.611111               0                1             0   \n",
      "38            0.777778               1                0             0   \n",
      "39            0.194444               1                0             1   \n",
      "40            0.083333               1                0             0   \n",
      "41            0.305556               0                1             1   \n",
      "42            0.611111               0                1             0   \n",
      "43            0.166667               1                0             0   \n",
      "44            0.666667               0                1             0   \n",
      "45            0.000000               1                0             0   \n",
      "46            0.472222               0                1             0   \n",
      "47            0.138889               1                0             0   \n",
      "48            0.638889               0                1             1   \n",
      "49            1.000000               1                0             1   \n",
      "\n",
      "    Genre_Comedy  Genre_Drama  \n",
      "0              0            0  \n",
      "1              0            1  \n",
      "2              1            0  \n",
      "3              0            1  \n",
      "4              0            0  \n",
      "5              0            0  \n",
      "6              0            1  \n",
      "7              0            0  \n",
      "8              1            0  \n",
      "9              0            1  \n",
      "10             0            1  \n",
      "11             0            0  \n",
      "12             1            0  \n",
      "13             0            1  \n",
      "14             1            0  \n",
      "15             0            0  \n",
      "16             0            1  \n",
      "17             0            0  \n",
      "18             1            0  \n",
      "19             0            0  \n",
      "20             0            1  \n",
      "21             0            1  \n",
      "22             1            0  \n",
      "23             0            1  \n",
      "24             1            0  \n",
      "25             0            0  \n",
      "26             0            1  \n",
      "27             1            0  \n",
      "28             0            0  \n",
      "29             0            0  \n",
      "30             1            0  \n",
      "31             0            1  \n",
      "32             0            0  \n",
      "33             0            0  \n",
      "34             0            0  \n",
      "35             1            0  \n",
      "36             1            0  \n",
      "37             0            1  \n",
      "38             1            0  \n",
      "39             0            0  \n",
      "40             0            1  \n",
      "41             0            0  \n",
      "42             0            1  \n",
      "43             0            1  \n",
      "44             0            1  \n",
      "45             0            1  \n",
      "46             0            1  \n",
      "47             0            1  \n",
      "48             0            0  \n",
      "49             0            0  \n"
     ]
    }
   ],
   "source": [
    "#Create as a dataframe in Pandas\n",
    "Video_conver_pd = pd.DataFrame(Video_conver, columns=[\"Cust_ID\",\"gend_F\",\"gend_M\",\"Income_norm\",\"Age_Z\", \"Rentals_norm\",\"Avg_Per_Visit_norm\",\"Incidentals_No\",\"Incidentals_Yes\",\"Genre_Action\",\"Genre_Comedy\", \"Genre_Drama\"])\n",
    "print Video_conver_pd"
   ]
  },
  {
   "cell_type": "code",
   "execution_count": 41,
   "metadata": {
    "collapsed": false
   },
   "outputs": [],
   "source": [
    "#Print to .csv file in numpy\n",
    "out_file = open(\"new_video_store.csv\", \"w\")\n",
    "np.savetxt(out_file, Video_conver, fmt='%1.2f',delimiter=\",\")"
   ]
  },
  {
   "cell_type": "code",
   "execution_count": 42,
   "metadata": {
    "collapsed": false
   },
   "outputs": [],
   "source": [
    "#print to csv using pandas\n",
    "Video_conver_pd.to_csv('new_video_store_pd.csv', header =True)"
   ]
  },
  {
   "cell_type": "code",
   "execution_count": 43,
   "metadata": {
    "collapsed": false
   },
   "outputs": [
    {
     "data": {
      "text/plain": [
       "array([[ 1.        , -0.03186793,  0.29409227, ...,  0.326452  ,\n",
       "         0.38663838,  0.37776077],\n",
       "       [-0.03186793,  1.        ,  0.7186159 , ...,  0.74965907,\n",
       "         0.72204612,  0.73487874],\n",
       "       [ 0.29409227,  0.7186159 ,  1.        , ...,  0.79471188,\n",
       "         0.79916815,  0.80775392],\n",
       "       ..., \n",
       "       [ 0.326452  ,  0.74965907,  0.79471188, ...,  1.        ,\n",
       "         0.99760024,  0.99767991],\n",
       "       [ 0.38663838,  0.72204612,  0.79916815, ...,  0.99760024,\n",
       "         1.        ,  0.99947364],\n",
       "       [ 0.37776077,  0.73487874,  0.80775392, ...,  0.99767991,\n",
       "         0.99947364,  1.        ]])"
      ]
     },
     "execution_count": 43,
     "metadata": {},
     "output_type": "execute_result"
    }
   ],
   "source": [
    "#Correlation Coefficient with Numpy\n",
    "np.corrcoef(Video_conver)"
   ]
  },
  {
   "cell_type": "code",
   "execution_count": 44,
   "metadata": {
    "collapsed": false
   },
   "outputs": [
    {
     "data": {
      "text/html": [
       "<div style=\"max-height:1000px;max-width:1500px;overflow:auto;\">\n",
       "<table border=\"1\" class=\"dataframe\">\n",
       "  <thead>\n",
       "    <tr style=\"text-align: right;\">\n",
       "      <th></th>\n",
       "      <th>Cust_ID</th>\n",
       "      <th>gend_F</th>\n",
       "      <th>gend_M</th>\n",
       "      <th>Income_norm</th>\n",
       "      <th>Age_Z</th>\n",
       "      <th>Rentals_norm</th>\n",
       "      <th>Avg_Per_Visit_norm</th>\n",
       "      <th>Incidentals_No</th>\n",
       "      <th>Incidentals_Yes</th>\n",
       "      <th>Genre_Action</th>\n",
       "      <th>Genre_Comedy</th>\n",
       "      <th>Genre_Drama</th>\n",
       "    </tr>\n",
       "  </thead>\n",
       "  <tbody>\n",
       "    <tr>\n",
       "      <th>Cust_ID</th>\n",
       "      <td> 1.000000</td>\n",
       "      <td>-0.030515</td>\n",
       "      <td> 0.030515</td>\n",
       "      <td> 0.061042</td>\n",
       "      <td> 0.008050</td>\n",
       "      <td>-0.025080</td>\n",
       "      <td>-0.047075</td>\n",
       "      <td> 0.041611</td>\n",
       "      <td>-0.041611</td>\n",
       "      <td>-0.014437</td>\n",
       "      <td>-0.090862</td>\n",
       "      <td> 0.093357</td>\n",
       "    </tr>\n",
       "    <tr>\n",
       "      <th>gend_F</th>\n",
       "      <td>-0.030515</td>\n",
       "      <td> 1.000000</td>\n",
       "      <td>-1.000000</td>\n",
       "      <td> 0.063841</td>\n",
       "      <td> 0.227663</td>\n",
       "      <td> 0.029460</td>\n",
       "      <td> 0.029176</td>\n",
       "      <td> 0.198718</td>\n",
       "      <td>-0.198718</td>\n",
       "      <td>-0.303576</td>\n",
       "      <td> 0.022496</td>\n",
       "      <td> 0.277831</td>\n",
       "    </tr>\n",
       "    <tr>\n",
       "      <th>gend_M</th>\n",
       "      <td> 0.030515</td>\n",
       "      <td>-1.000000</td>\n",
       "      <td> 1.000000</td>\n",
       "      <td>-0.063841</td>\n",
       "      <td>-0.227663</td>\n",
       "      <td>-0.029460</td>\n",
       "      <td>-0.029176</td>\n",
       "      <td>-0.198718</td>\n",
       "      <td> 0.198718</td>\n",
       "      <td> 0.303576</td>\n",
       "      <td>-0.022496</td>\n",
       "      <td>-0.277831</td>\n",
       "    </tr>\n",
       "    <tr>\n",
       "      <th>Income_norm</th>\n",
       "      <td> 0.061042</td>\n",
       "      <td> 0.063841</td>\n",
       "      <td>-0.063841</td>\n",
       "      <td> 1.000000</td>\n",
       "      <td> 0.627013</td>\n",
       "      <td>-0.268460</td>\n",
       "      <td> 0.305221</td>\n",
       "      <td> 0.063841</td>\n",
       "      <td>-0.063841</td>\n",
       "      <td>-0.362514</td>\n",
       "      <td> 0.071588</td>\n",
       "      <td> 0.292781</td>\n",
       "    </tr>\n",
       "    <tr>\n",
       "      <th>Age_Z</th>\n",
       "      <td> 0.008050</td>\n",
       "      <td> 0.227663</td>\n",
       "      <td>-0.227663</td>\n",
       "      <td> 0.627013</td>\n",
       "      <td> 1.000000</td>\n",
       "      <td>-0.551092</td>\n",
       "      <td> 0.397372</td>\n",
       "      <td> 0.214184</td>\n",
       "      <td>-0.214184</td>\n",
       "      <td>-0.480794</td>\n",
       "      <td> 0.016872</td>\n",
       "      <td> 0.456371</td>\n",
       "    </tr>\n",
       "    <tr>\n",
       "      <th>Rentals_norm</th>\n",
       "      <td>-0.025080</td>\n",
       "      <td> 0.029460</td>\n",
       "      <td>-0.029460</td>\n",
       "      <td>-0.268460</td>\n",
       "      <td>-0.551092</td>\n",
       "      <td> 1.000000</td>\n",
       "      <td> 0.077868</td>\n",
       "      <td>-0.320683</td>\n",
       "      <td> 0.320683</td>\n",
       "      <td> 0.336124</td>\n",
       "      <td>-0.036911</td>\n",
       "      <td>-0.297154</td>\n",
       "    </tr>\n",
       "    <tr>\n",
       "      <th>Avg_Per_Visit_norm</th>\n",
       "      <td>-0.047075</td>\n",
       "      <td> 0.029176</td>\n",
       "      <td>-0.029176</td>\n",
       "      <td> 0.305221</td>\n",
       "      <td> 0.397372</td>\n",
       "      <td> 0.077868</td>\n",
       "      <td> 1.000000</td>\n",
       "      <td>-0.078885</td>\n",
       "      <td> 0.078885</td>\n",
       "      <td>-0.101414</td>\n",
       "      <td>-0.067208</td>\n",
       "      <td> 0.157955</td>\n",
       "    </tr>\n",
       "    <tr>\n",
       "      <th>Incidentals_No</th>\n",
       "      <td> 0.041611</td>\n",
       "      <td> 0.198718</td>\n",
       "      <td>-0.198718</td>\n",
       "      <td> 0.063841</td>\n",
       "      <td> 0.214184</td>\n",
       "      <td>-0.320683</td>\n",
       "      <td>-0.078885</td>\n",
       "      <td> 1.000000</td>\n",
       "      <td>-1.000000</td>\n",
       "      <td>-0.386976</td>\n",
       "      <td> 0.397430</td>\n",
       "      <td> 0.032686</td>\n",
       "    </tr>\n",
       "    <tr>\n",
       "      <th>Incidentals_Yes</th>\n",
       "      <td>-0.041611</td>\n",
       "      <td>-0.198718</td>\n",
       "      <td> 0.198718</td>\n",
       "      <td>-0.063841</td>\n",
       "      <td>-0.214184</td>\n",
       "      <td> 0.320683</td>\n",
       "      <td> 0.078885</td>\n",
       "      <td>-1.000000</td>\n",
       "      <td> 1.000000</td>\n",
       "      <td> 0.386976</td>\n",
       "      <td>-0.397430</td>\n",
       "      <td>-0.032686</td>\n",
       "    </tr>\n",
       "    <tr>\n",
       "      <th>Genre_Action</th>\n",
       "      <td>-0.014437</td>\n",
       "      <td>-0.303576</td>\n",
       "      <td> 0.303576</td>\n",
       "      <td>-0.362514</td>\n",
       "      <td>-0.480794</td>\n",
       "      <td> 0.336124</td>\n",
       "      <td>-0.101414</td>\n",
       "      <td>-0.386976</td>\n",
       "      <td> 0.386976</td>\n",
       "      <td> 1.000000</td>\n",
       "      <td>-0.421464</td>\n",
       "      <td>-0.612372</td>\n",
       "    </tr>\n",
       "    <tr>\n",
       "      <th>Genre_Comedy</th>\n",
       "      <td>-0.090862</td>\n",
       "      <td> 0.022496</td>\n",
       "      <td>-0.022496</td>\n",
       "      <td> 0.071588</td>\n",
       "      <td> 0.016872</td>\n",
       "      <td>-0.036911</td>\n",
       "      <td>-0.067208</td>\n",
       "      <td> 0.397430</td>\n",
       "      <td>-0.397430</td>\n",
       "      <td>-0.421464</td>\n",
       "      <td> 1.000000</td>\n",
       "      <td>-0.458831</td>\n",
       "    </tr>\n",
       "    <tr>\n",
       "      <th>Genre_Drama</th>\n",
       "      <td> 0.093357</td>\n",
       "      <td> 0.277831</td>\n",
       "      <td>-0.277831</td>\n",
       "      <td> 0.292781</td>\n",
       "      <td> 0.456371</td>\n",
       "      <td>-0.297154</td>\n",
       "      <td> 0.157955</td>\n",
       "      <td> 0.032686</td>\n",
       "      <td>-0.032686</td>\n",
       "      <td>-0.612372</td>\n",
       "      <td>-0.458831</td>\n",
       "      <td> 1.000000</td>\n",
       "    </tr>\n",
       "  </tbody>\n",
       "</table>\n",
       "</div>"
      ],
      "text/plain": [
       "                     Cust_ID    gend_F    gend_M  Income_norm     Age_Z  \\\n",
       "Cust_ID             1.000000 -0.030515  0.030515     0.061042  0.008050   \n",
       "gend_F             -0.030515  1.000000 -1.000000     0.063841  0.227663   \n",
       "gend_M              0.030515 -1.000000  1.000000    -0.063841 -0.227663   \n",
       "Income_norm         0.061042  0.063841 -0.063841     1.000000  0.627013   \n",
       "Age_Z               0.008050  0.227663 -0.227663     0.627013  1.000000   \n",
       "Rentals_norm       -0.025080  0.029460 -0.029460    -0.268460 -0.551092   \n",
       "Avg_Per_Visit_norm -0.047075  0.029176 -0.029176     0.305221  0.397372   \n",
       "Incidentals_No      0.041611  0.198718 -0.198718     0.063841  0.214184   \n",
       "Incidentals_Yes    -0.041611 -0.198718  0.198718    -0.063841 -0.214184   \n",
       "Genre_Action       -0.014437 -0.303576  0.303576    -0.362514 -0.480794   \n",
       "Genre_Comedy       -0.090862  0.022496 -0.022496     0.071588  0.016872   \n",
       "Genre_Drama         0.093357  0.277831 -0.277831     0.292781  0.456371   \n",
       "\n",
       "                    Rentals_norm  Avg_Per_Visit_norm  Incidentals_No  \\\n",
       "Cust_ID                -0.025080           -0.047075        0.041611   \n",
       "gend_F                  0.029460            0.029176        0.198718   \n",
       "gend_M                 -0.029460           -0.029176       -0.198718   \n",
       "Income_norm            -0.268460            0.305221        0.063841   \n",
       "Age_Z                  -0.551092            0.397372        0.214184   \n",
       "Rentals_norm            1.000000            0.077868       -0.320683   \n",
       "Avg_Per_Visit_norm      0.077868            1.000000       -0.078885   \n",
       "Incidentals_No         -0.320683           -0.078885        1.000000   \n",
       "Incidentals_Yes         0.320683            0.078885       -1.000000   \n",
       "Genre_Action            0.336124           -0.101414       -0.386976   \n",
       "Genre_Comedy           -0.036911           -0.067208        0.397430   \n",
       "Genre_Drama            -0.297154            0.157955        0.032686   \n",
       "\n",
       "                    Incidentals_Yes  Genre_Action  Genre_Comedy  Genre_Drama  \n",
       "Cust_ID                   -0.041611     -0.014437     -0.090862     0.093357  \n",
       "gend_F                    -0.198718     -0.303576      0.022496     0.277831  \n",
       "gend_M                     0.198718      0.303576     -0.022496    -0.277831  \n",
       "Income_norm               -0.063841     -0.362514      0.071588     0.292781  \n",
       "Age_Z                     -0.214184     -0.480794      0.016872     0.456371  \n",
       "Rentals_norm               0.320683      0.336124     -0.036911    -0.297154  \n",
       "Avg_Per_Visit_norm         0.078885     -0.101414     -0.067208     0.157955  \n",
       "Incidentals_No            -1.000000     -0.386976      0.397430     0.032686  \n",
       "Incidentals_Yes            1.000000      0.386976     -0.397430    -0.032686  \n",
       "Genre_Action               0.386976      1.000000     -0.421464    -0.612372  \n",
       "Genre_Comedy              -0.397430     -0.421464      1.000000    -0.458831  \n",
       "Genre_Drama               -0.032686     -0.612372     -0.458831     1.000000  "
      ]
     },
     "execution_count": 44,
     "metadata": {},
     "output_type": "execute_result"
    }
   ],
   "source": [
    "#Correlation using Pandas\n",
    "Video_conver_pd.corr(method='pearson', min_periods=1)"
   ]
  },
  {
   "cell_type": "code",
   "execution_count": 45,
   "metadata": {
    "collapsed": false
   },
   "outputs": [],
   "source": [
    "#High correlations (above .6) are: Income and Age_z and Action and Drame Genre"
   ]
  },
  {
   "cell_type": "code",
   "execution_count": 46,
   "metadata": {
    "collapsed": false
   },
   "outputs": [
    {
     "data": {
      "image/png": "[encoded data removed]",
      "text/plain": [
       "<matplotlib.figure.Figure at 0x10a0b1ad0>"
      ]
     },
     "metadata": {},
     "output_type": "display_data"
    }
   ],
   "source": [
    "#histogram of Income using 9 bins\n",
    "n, bins, patches = plt.hist(Income, 9, facecolor='green', alpha=0.75)\n",
    "plt.ylim(0, 10)\n",
    "plt.title('histogram of Income using 9 bins')\n",
    "plt.xlabel(\"Income\")\n",
    "plt.ylabel(\"Frequency\")\n",
    "plt.show()"
   ]
  },
  {
   "cell_type": "code",
   "execution_count": 47,
   "metadata": {
    "collapsed": false
   },
   "outputs": [
    {
     "data": {
      "image/png": "[encoded data removed]",
      "text/plain": [
       "<matplotlib.figure.Figure at 0x10a19c350>"
      ]
     },
     "metadata": {},
     "output_type": "display_data"
    }
   ],
   "source": [
    "#histogram of Age using 7 bins\n",
    "n, bins, patches = plt.hist(Age, 7, facecolor='blue', alpha=0.75)\n",
    "plt.ylim(0, 15)\n",
    "plt.xlabel(\"Age\")\n",
    "plt.ylabel(\"Frequency\")\n",
    "plt.title('Histogram of Age using 7 bins')\n",
    "plt.show()"
   ]
  },
  {
   "cell_type": "code",
   "execution_count": 48,
   "metadata": {
    "collapsed": false
   },
   "outputs": [
    {
     "data": {
      "image/png": "[encoded data removed]",
      "text/plain": [
       "<matplotlib.figure.Figure at 0x10a459d50>"
      ]
     },
     "metadata": {},
     "output_type": "display_data"
    }
   ],
   "source": [
    "plt.scatter(Income,Age)\n",
    "plt.title('Scatter of Income and Age')\n",
    "plt.xlabel(\"Income\")\n",
    "plt.ylabel(\"Age\")\n",
    "plt.xlim(0, 100000)\n",
    "plt.show()"
   ]
  },
  {
   "cell_type": "code",
   "execution_count": 49,
   "metadata": {
    "collapsed": false
   },
   "outputs": [
    {
     "name": "stdout",
     "output_type": "stream",
     "text": [
      "Genre   Action  Comedy  Drama\n",
      "Gender                       \n",
      "F            5       6     13\n",
      "M           13       6      7\n"
     ]
    }
   ],
   "source": [
    "#Crosstab using Pandas\n",
    "video_cross=pd.crosstab(Gender, Genre,colnames=['Genre'],rownames=['Gender'])\n",
    "print video_cross"
   ]
  },
  {
   "cell_type": "code",
   "execution_count": 50,
   "metadata": {
    "collapsed": true
   },
   "outputs": [
    {
     "data": {
      "text/plain": [
       "<matplotlib.text.Text at 0x10a13d410>"
      ]
     },
     "execution_count": 50,
     "metadata": {},
     "output_type": "execute_result"
    },
    {
     "data": {
      "image/png": "[encoded data removed]",
      "text/plain": [
       "<matplotlib.figure.Figure at 0x10a1a5250>"
      ]
     },
     "metadata": {},
     "output_type": "display_data"
    }
   ],
   "source": [
    "#Bar plot of Genre by Gender\n",
    "video_cross.plot(kind='bar', stacked=True)\n",
    "plt.title('Movie Genre by Gender')\n",
    "\n"
   ]
  },
  {
   "cell_type": "code",
   "execution_count": 50,
   "metadata": {
    "collapsed": false
   },
   "outputs": [],
   "source": []
  }
 ],
 "metadata": {
  "kernelspec": {
   "display_name": "Python 2",
   "language": "python",
   "name": "python2"
  },
  "language_info": {
   "codemirror_mode": {
    "name": "ipython",
    "version": 2
   },
   "file_extension": ".py",
   "mimetype": "text/x-python",
   "name": "python",
   "nbconvert_exporter": "python",
   "pygments_lexer": "ipython2",
   "version": "2.7.9"
  }
 },
 "nbformat": 4,
 "nbformat_minor": 0
}
